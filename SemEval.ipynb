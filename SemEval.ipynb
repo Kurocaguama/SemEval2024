{
  "cells": [
    {
      "cell_type": "markdown",
      "metadata": {
        "id": "wBvM6sZ7ZzEZ"
      },
      "source": [
        "# Modelo: SAND (SentenceBERT, AnglE Embeddings, N-grams, Difference in Length)"
      ]
    },
    {
      "cell_type": "markdown",
      "metadata": {
        "id": "lv3pi721f8Wt"
      },
      "source": [
        "### Requisitos e importaciones"
      ]
    },
    {
      "cell_type": "code",
      "execution_count": null,
      "metadata": {
        "colab": {
          "base_uri": "https://localhost:8080/"
        },
        "id": "Zf-8HJISWEoy",
        "outputId": "489b0e26-4869-47b7-a45d-4bbff8d68e7b"
      },
      "outputs": [
        {
          "output_type": "stream",
          "name": "stdout",
          "text": [
            "Requirement already satisfied: nltk in /usr/local/lib/python3.10/dist-packages (3.8.1)\n",
            "Requirement already satisfied: sentence_transformers in /usr/local/lib/python3.10/dist-packages (2.3.1)\n",
            "Requirement already satisfied: angle-emb in /usr/local/lib/python3.10/dist-packages (0.3.3)\n",
            "Requirement already satisfied: click in /usr/local/lib/python3.10/dist-packages (from nltk) (8.1.7)\n",
            "Requirement already satisfied: joblib in /usr/local/lib/python3.10/dist-packages (from nltk) (1.3.2)\n",
            "Requirement already satisfied: regex>=2021.8.3 in /usr/local/lib/python3.10/dist-packages (from nltk) (2023.12.25)\n",
            "Requirement already satisfied: tqdm in /usr/local/lib/python3.10/dist-packages (from nltk) (4.66.2)\n",
            "Requirement already satisfied: transformers<5.0.0,>=4.32.0 in /usr/local/lib/python3.10/dist-packages (from sentence_transformers) (4.35.2)\n",
            "Requirement already satisfied: torch>=1.11.0 in /usr/local/lib/python3.10/dist-packages (from sentence_transformers) (2.1.0+cu121)\n",
            "Requirement already satisfied: numpy in /usr/local/lib/python3.10/dist-packages (from sentence_transformers) (1.25.2)\n",
            "Requirement already satisfied: scikit-learn in /usr/local/lib/python3.10/dist-packages (from sentence_transformers) (1.2.2)\n",
            "Requirement already satisfied: scipy in /usr/local/lib/python3.10/dist-packages (from sentence_transformers) (1.11.4)\n",
            "Requirement already satisfied: sentencepiece in /usr/local/lib/python3.10/dist-packages (from sentence_transformers) (0.1.99)\n",
            "Requirement already satisfied: huggingface-hub>=0.15.1 in /usr/local/lib/python3.10/dist-packages (from sentence_transformers) (0.20.3)\n",
            "Requirement already satisfied: Pillow in /usr/local/lib/python3.10/dist-packages (from sentence_transformers) (9.4.0)\n",
            "Requirement already satisfied: bitsandbytes in /usr/local/lib/python3.10/dist-packages (from angle-emb) (0.42.0)\n",
            "Requirement already satisfied: boltons in /usr/local/lib/python3.10/dist-packages (from angle-emb) (23.1.1)\n",
            "Requirement already satisfied: datasets in /usr/local/lib/python3.10/dist-packages (from angle-emb) (2.17.1)\n",
            "Requirement already satisfied: peft in /usr/local/lib/python3.10/dist-packages (from angle-emb) (0.8.2)\n",
            "Requirement already satisfied: prettytable in /usr/local/lib/python3.10/dist-packages (from angle-emb) (3.9.0)\n",
            "Requirement already satisfied: einops in /usr/local/lib/python3.10/dist-packages (from angle-emb) (0.7.0)\n",
            "Requirement already satisfied: wandb in /usr/local/lib/python3.10/dist-packages (from angle-emb) (0.16.3)\n",
            "Requirement already satisfied: filelock in /usr/local/lib/python3.10/dist-packages (from huggingface-hub>=0.15.1->sentence_transformers) (3.13.1)\n",
            "Requirement already satisfied: fsspec>=2023.5.0 in /usr/local/lib/python3.10/dist-packages (from huggingface-hub>=0.15.1->sentence_transformers) (2023.6.0)\n",
            "Requirement already satisfied: requests in /usr/local/lib/python3.10/dist-packages (from huggingface-hub>=0.15.1->sentence_transformers) (2.31.0)\n",
            "Requirement already satisfied: pyyaml>=5.1 in /usr/local/lib/python3.10/dist-packages (from huggingface-hub>=0.15.1->sentence_transformers) (6.0.1)\n",
            "Requirement already satisfied: typing-extensions>=3.7.4.3 in /usr/local/lib/python3.10/dist-packages (from huggingface-hub>=0.15.1->sentence_transformers) (4.9.0)\n",
            "Requirement already satisfied: packaging>=20.9 in /usr/local/lib/python3.10/dist-packages (from huggingface-hub>=0.15.1->sentence_transformers) (23.2)\n",
            "Requirement already satisfied: sympy in /usr/local/lib/python3.10/dist-packages (from torch>=1.11.0->sentence_transformers) (1.12)\n",
            "Requirement already satisfied: networkx in /usr/local/lib/python3.10/dist-packages (from torch>=1.11.0->sentence_transformers) (3.2.1)\n",
            "Requirement already satisfied: jinja2 in /usr/local/lib/python3.10/dist-packages (from torch>=1.11.0->sentence_transformers) (3.1.3)\n",
            "Requirement already satisfied: triton==2.1.0 in /usr/local/lib/python3.10/dist-packages (from torch>=1.11.0->sentence_transformers) (2.1.0)\n",
            "Requirement already satisfied: tokenizers<0.19,>=0.14 in /usr/local/lib/python3.10/dist-packages (from transformers<5.0.0,>=4.32.0->sentence_transformers) (0.15.2)\n",
            "Requirement already satisfied: safetensors>=0.3.1 in /usr/local/lib/python3.10/dist-packages (from transformers<5.0.0,>=4.32.0->sentence_transformers) (0.4.2)\n",
            "Requirement already satisfied: pyarrow>=12.0.0 in /usr/local/lib/python3.10/dist-packages (from datasets->angle-emb) (15.0.0)\n",
            "Requirement already satisfied: pyarrow-hotfix in /usr/local/lib/python3.10/dist-packages (from datasets->angle-emb) (0.6)\n",
            "Requirement already satisfied: dill<0.3.9,>=0.3.0 in /usr/local/lib/python3.10/dist-packages (from datasets->angle-emb) (0.3.8)\n",
            "Requirement already satisfied: pandas in /usr/local/lib/python3.10/dist-packages (from datasets->angle-emb) (1.5.3)\n",
            "Requirement already satisfied: xxhash in /usr/local/lib/python3.10/dist-packages (from datasets->angle-emb) (3.4.1)\n",
            "Requirement already satisfied: multiprocess in /usr/local/lib/python3.10/dist-packages (from datasets->angle-emb) (0.70.16)\n",
            "Requirement already satisfied: aiohttp in /usr/local/lib/python3.10/dist-packages (from datasets->angle-emb) (3.9.3)\n",
            "Requirement already satisfied: psutil in /usr/local/lib/python3.10/dist-packages (from peft->angle-emb) (5.9.5)\n",
            "Requirement already satisfied: accelerate>=0.21.0 in /usr/local/lib/python3.10/dist-packages (from peft->angle-emb) (0.27.2)\n",
            "Requirement already satisfied: wcwidth in /usr/local/lib/python3.10/dist-packages (from prettytable->angle-emb) (0.2.13)\n",
            "Requirement already satisfied: threadpoolctl>=2.0.0 in /usr/local/lib/python3.10/dist-packages (from scikit-learn->sentence_transformers) (3.3.0)\n",
            "Requirement already satisfied: GitPython!=3.1.29,>=1.0.0 in /usr/local/lib/python3.10/dist-packages (from wandb->angle-emb) (3.1.42)\n",
            "Requirement already satisfied: sentry-sdk>=1.0.0 in /usr/local/lib/python3.10/dist-packages (from wandb->angle-emb) (1.40.5)\n",
            "Requirement already satisfied: docker-pycreds>=0.4.0 in /usr/local/lib/python3.10/dist-packages (from wandb->angle-emb) (0.4.0)\n",
            "Requirement already satisfied: setproctitle in /usr/local/lib/python3.10/dist-packages (from wandb->angle-emb) (1.3.3)\n",
            "Requirement already satisfied: setuptools in /usr/local/lib/python3.10/dist-packages (from wandb->angle-emb) (67.7.2)\n",
            "Requirement already satisfied: appdirs>=1.4.3 in /usr/local/lib/python3.10/dist-packages (from wandb->angle-emb) (1.4.4)\n",
            "Requirement already satisfied: protobuf!=4.21.0,<5,>=3.19.0 in /usr/local/lib/python3.10/dist-packages (from wandb->angle-emb) (3.20.3)\n",
            "Requirement already satisfied: six>=1.4.0 in /usr/local/lib/python3.10/dist-packages (from docker-pycreds>=0.4.0->wandb->angle-emb) (1.16.0)\n",
            "Requirement already satisfied: aiosignal>=1.1.2 in /usr/local/lib/python3.10/dist-packages (from aiohttp->datasets->angle-emb) (1.3.1)\n",
            "Requirement already satisfied: attrs>=17.3.0 in /usr/local/lib/python3.10/dist-packages (from aiohttp->datasets->angle-emb) (23.2.0)\n",
            "Requirement already satisfied: frozenlist>=1.1.1 in /usr/local/lib/python3.10/dist-packages (from aiohttp->datasets->angle-emb) (1.4.1)\n",
            "Requirement already satisfied: multidict<7.0,>=4.5 in /usr/local/lib/python3.10/dist-packages (from aiohttp->datasets->angle-emb) (6.0.5)\n",
            "Requirement already satisfied: yarl<2.0,>=1.0 in /usr/local/lib/python3.10/dist-packages (from aiohttp->datasets->angle-emb) (1.9.4)\n",
            "Requirement already satisfied: async-timeout<5.0,>=4.0 in /usr/local/lib/python3.10/dist-packages (from aiohttp->datasets->angle-emb) (4.0.3)\n",
            "Requirement already satisfied: gitdb<5,>=4.0.1 in /usr/local/lib/python3.10/dist-packages (from GitPython!=3.1.29,>=1.0.0->wandb->angle-emb) (4.0.11)\n",
            "Requirement already satisfied: charset-normalizer<4,>=2 in /usr/local/lib/python3.10/dist-packages (from requests->huggingface-hub>=0.15.1->sentence_transformers) (3.3.2)\n",
            "Requirement already satisfied: idna<4,>=2.5 in /usr/local/lib/python3.10/dist-packages (from requests->huggingface-hub>=0.15.1->sentence_transformers) (3.6)\n",
            "Requirement already satisfied: urllib3<3,>=1.21.1 in /usr/local/lib/python3.10/dist-packages (from requests->huggingface-hub>=0.15.1->sentence_transformers) (2.0.7)\n",
            "Requirement already satisfied: certifi>=2017.4.17 in /usr/local/lib/python3.10/dist-packages (from requests->huggingface-hub>=0.15.1->sentence_transformers) (2024.2.2)\n",
            "Requirement already satisfied: MarkupSafe>=2.0 in /usr/local/lib/python3.10/dist-packages (from jinja2->torch>=1.11.0->sentence_transformers) (2.1.5)\n",
            "Requirement already satisfied: python-dateutil>=2.8.1 in /usr/local/lib/python3.10/dist-packages (from pandas->datasets->angle-emb) (2.8.2)\n",
            "Requirement already satisfied: pytz>=2020.1 in /usr/local/lib/python3.10/dist-packages (from pandas->datasets->angle-emb) (2023.4)\n",
            "Requirement already satisfied: mpmath>=0.19 in /usr/local/lib/python3.10/dist-packages (from sympy->torch>=1.11.0->sentence_transformers) (1.3.0)\n",
            "Requirement already satisfied: smmap<6,>=3.0.1 in /usr/local/lib/python3.10/dist-packages (from gitdb<5,>=4.0.1->GitPython!=3.1.29,>=1.0.0->wandb->angle-emb) (5.0.1)\n"
          ]
        }
      ],
      "source": [
        "pip install nltk sentence_transformers -U angle-emb"
      ]
    },
    {
      "cell_type": "code",
      "execution_count": null,
      "metadata": {
        "colab": {
          "base_uri": "https://localhost:8080/"
        },
        "id": "R7LSgc32wc5H",
        "outputId": "5be3bdb0-3d23-46d9-90a6-3506f5c49b1e"
      },
      "outputs": [
        {
          "output_type": "stream",
          "name": "stderr",
          "text": [
            "[nltk_data] Downloading package stopwords to /root/nltk_data...\n",
            "[nltk_data]   Package stopwords is already up-to-date!\n"
          ]
        }
      ],
      "source": [
        "import pandas as pd\n",
        "import torch\n",
        "import sklearn\n",
        "import string\n",
        "import nltk\n",
        "import transformers\n",
        "import huggingface_hub\n",
        "import sentence_transformers\n",
        "import math\n",
        "import numpy as np\n",
        "\n",
        "from sentence_transformers import SentenceTransformer, util, evaluation, models, InputExample, losses\n",
        "from transformers import AutoTokenizer, AutoModelForSequenceClassification\n",
        "from angle_emb import AnglE, AngleDataTokenizer, Prompts\n",
        "from scipy.stats import spearmanr\n",
        "from torch import nn\n",
        "from sklearn.feature_extraction.text import CountVectorizer\n",
        "from sklearn import linear_model\n",
        "from nltk.corpus import stopwords\n",
        "\n",
        "nltk.download('stopwords')\n",
        "stop_words = stopwords.words('spanish')"
      ]
    },
    {
      "cell_type": "code",
      "execution_count": null,
      "metadata": {
        "colab": {
          "base_uri": "https://localhost:8080/"
        },
        "id": "Ir9S8RlrkqHN",
        "outputId": "ae39d254-b2e7-4f9c-c0ed-6a1bdd3c0822"
      },
      "outputs": [
        {
          "output_type": "stream",
          "name": "stdout",
          "text": [
            "Drive already mounted at /content/drive; to attempt to forcibly remount, call drive.mount(\"/content/drive\", force_remount=True).\n"
          ]
        }
      ],
      "source": [
        "from google.colab import drive\n",
        "drive.mount('/content/drive')"
      ]
    },
    {
      "cell_type": "markdown",
      "metadata": {
        "id": "jHdV4G3wgJaM"
      },
      "source": [
        "### Importamos y preparamos el dataset"
      ]
    },
    {
      "cell_type": "code",
      "execution_count": null,
      "metadata": {
        "id": "dwFGPxiSz49h"
      },
      "outputs": [],
      "source": [
        "# dir = str: dirección en drive del dataset\n",
        "\n",
        "def ds_prep(dir):\n",
        "  ds = pd.read_csv(dir)\n",
        "  ds['Split'] = ds['Text'].apply(lambda x: x.split(\"\\n\"))\n",
        "  return ds\n",
        "\n",
        "eng_ds = ds_prep('/content/drive/MyDrive/Semeval 2024/eng_ds/eng_train.csv')\n",
        "esp_ds = ds_prep('/content/drive/MyDrive/Semeval 2024/esp_ds/esp_train.csv')\n",
        "\n",
        "# Lo de abajo corresponde a los datasets necesarios para el task como tal\n",
        "\n",
        "eng_train = ds_prep('/content/drive/MyDrive/Semeval 2024/eng_ds/eng_train.csv')\n",
        "eng_val = ds_prep('/content/drive/MyDrive/Semeval 2024/eng_ds/eng_dev_with_labels.csv')\n",
        "eng_test = ds_prep('/content/drive/MyDrive/Semeval 2024/eng_ds/eng_test.csv')\n",
        "\n",
        "esp_train = ds_prep('/content/drive/MyDrive/Semeval 2024/esp_ds/esp_train.csv')\n",
        "esp_val = ds_prep('/content/drive/MyDrive/Semeval 2024/esp_ds/esp_dev_with_labels.csv')\n",
        "esp_test = ds_prep('/content/drive/MyDrive/Semeval 2024/esp_ds/esp_test.csv')"
      ]
    },
    {
      "cell_type": "code",
      "execution_count": null,
      "metadata": {
        "colab": {
          "base_uri": "https://localhost:8080/",
          "height": 206
        },
        "id": "wnNjZiRzlssF",
        "outputId": "cd2847d3-8ce4-4da9-ba63-da5d5664f175"
      },
      "outputs": [
        {
          "output_type": "execute_result",
          "data": {
            "text/plain": [
              "          PairID                                               Text  \\\n",
              "0  ESP-test-0000  Los menonitas amish con ascendencia suiza de G...   \n",
              "1  ESP-test-0001  El perro negro está jugando con el perro marró...   \n",
              "2  ESP-test-0002  Cuando se agita un disolvente, dos líquidos in...   \n",
              "3  ESP-test-0003  La exsoldado de Estados Unidos Chelsea Manning...   \n",
              "4  ESP-test-0004  La catedral de Módena es uno de los lugares de...   \n",
              "\n",
              "                                               Split  \n",
              "0  [Los menonitas amish con ascendencia suiza de ...  \n",
              "1  [El perro negro está jugando con el perro marr...  \n",
              "2  [Cuando se agita un disolvente, dos líquidos i...  \n",
              "3  [La exsoldado de Estados Unidos Chelsea Mannin...  \n",
              "4  [La catedral de Módena es uno de los lugares d...  "
            ],
            "text/html": [
              "\n",
              "  <div id=\"df-8d3d8fb0-6d0c-4342-87e8-d096468d39be\" class=\"colab-df-container\">\n",
              "    <div>\n",
              "<style scoped>\n",
              "    .dataframe tbody tr th:only-of-type {\n",
              "        vertical-align: middle;\n",
              "    }\n",
              "\n",
              "    .dataframe tbody tr th {\n",
              "        vertical-align: top;\n",
              "    }\n",
              "\n",
              "    .dataframe thead th {\n",
              "        text-align: right;\n",
              "    }\n",
              "</style>\n",
              "<table border=\"1\" class=\"dataframe\">\n",
              "  <thead>\n",
              "    <tr style=\"text-align: right;\">\n",
              "      <th></th>\n",
              "      <th>PairID</th>\n",
              "      <th>Text</th>\n",
              "      <th>Split</th>\n",
              "    </tr>\n",
              "  </thead>\n",
              "  <tbody>\n",
              "    <tr>\n",
              "      <th>0</th>\n",
              "      <td>ESP-test-0000</td>\n",
              "      <td>Los menonitas amish con ascendencia suiza de G...</td>\n",
              "      <td>[Los menonitas amish con ascendencia suiza de ...</td>\n",
              "    </tr>\n",
              "    <tr>\n",
              "      <th>1</th>\n",
              "      <td>ESP-test-0001</td>\n",
              "      <td>El perro negro está jugando con el perro marró...</td>\n",
              "      <td>[El perro negro está jugando con el perro marr...</td>\n",
              "    </tr>\n",
              "    <tr>\n",
              "      <th>2</th>\n",
              "      <td>ESP-test-0002</td>\n",
              "      <td>Cuando se agita un disolvente, dos líquidos in...</td>\n",
              "      <td>[Cuando se agita un disolvente, dos líquidos i...</td>\n",
              "    </tr>\n",
              "    <tr>\n",
              "      <th>3</th>\n",
              "      <td>ESP-test-0003</td>\n",
              "      <td>La exsoldado de Estados Unidos Chelsea Manning...</td>\n",
              "      <td>[La exsoldado de Estados Unidos Chelsea Mannin...</td>\n",
              "    </tr>\n",
              "    <tr>\n",
              "      <th>4</th>\n",
              "      <td>ESP-test-0004</td>\n",
              "      <td>La catedral de Módena es uno de los lugares de...</td>\n",
              "      <td>[La catedral de Módena es uno de los lugares d...</td>\n",
              "    </tr>\n",
              "  </tbody>\n",
              "</table>\n",
              "</div>\n",
              "    <div class=\"colab-df-buttons\">\n",
              "\n",
              "  <div class=\"colab-df-container\">\n",
              "    <button class=\"colab-df-convert\" onclick=\"convertToInteractive('df-8d3d8fb0-6d0c-4342-87e8-d096468d39be')\"\n",
              "            title=\"Convert this dataframe to an interactive table.\"\n",
              "            style=\"display:none;\">\n",
              "\n",
              "  <svg xmlns=\"http://www.w3.org/2000/svg\" height=\"24px\" viewBox=\"0 -960 960 960\">\n",
              "    <path d=\"M120-120v-720h720v720H120Zm60-500h600v-160H180v160Zm220 220h160v-160H400v160Zm0 220h160v-160H400v160ZM180-400h160v-160H180v160Zm440 0h160v-160H620v160ZM180-180h160v-160H180v160Zm440 0h160v-160H620v160Z\"/>\n",
              "  </svg>\n",
              "    </button>\n",
              "\n",
              "  <style>\n",
              "    .colab-df-container {\n",
              "      display:flex;\n",
              "      gap: 12px;\n",
              "    }\n",
              "\n",
              "    .colab-df-convert {\n",
              "      background-color: #E8F0FE;\n",
              "      border: none;\n",
              "      border-radius: 50%;\n",
              "      cursor: pointer;\n",
              "      display: none;\n",
              "      fill: #1967D2;\n",
              "      height: 32px;\n",
              "      padding: 0 0 0 0;\n",
              "      width: 32px;\n",
              "    }\n",
              "\n",
              "    .colab-df-convert:hover {\n",
              "      background-color: #E2EBFA;\n",
              "      box-shadow: 0px 1px 2px rgba(60, 64, 67, 0.3), 0px 1px 3px 1px rgba(60, 64, 67, 0.15);\n",
              "      fill: #174EA6;\n",
              "    }\n",
              "\n",
              "    .colab-df-buttons div {\n",
              "      margin-bottom: 4px;\n",
              "    }\n",
              "\n",
              "    [theme=dark] .colab-df-convert {\n",
              "      background-color: #3B4455;\n",
              "      fill: #D2E3FC;\n",
              "    }\n",
              "\n",
              "    [theme=dark] .colab-df-convert:hover {\n",
              "      background-color: #434B5C;\n",
              "      box-shadow: 0px 1px 3px 1px rgba(0, 0, 0, 0.15);\n",
              "      filter: drop-shadow(0px 1px 2px rgba(0, 0, 0, 0.3));\n",
              "      fill: #FFFFFF;\n",
              "    }\n",
              "  </style>\n",
              "\n",
              "    <script>\n",
              "      const buttonEl =\n",
              "        document.querySelector('#df-8d3d8fb0-6d0c-4342-87e8-d096468d39be button.colab-df-convert');\n",
              "      buttonEl.style.display =\n",
              "        google.colab.kernel.accessAllowed ? 'block' : 'none';\n",
              "\n",
              "      async function convertToInteractive(key) {\n",
              "        const element = document.querySelector('#df-8d3d8fb0-6d0c-4342-87e8-d096468d39be');\n",
              "        const dataTable =\n",
              "          await google.colab.kernel.invokeFunction('convertToInteractive',\n",
              "                                                    [key], {});\n",
              "        if (!dataTable) return;\n",
              "\n",
              "        const docLinkHtml = 'Like what you see? Visit the ' +\n",
              "          '<a target=\"_blank\" href=https://colab.research.google.com/notebooks/data_table.ipynb>data table notebook</a>'\n",
              "          + ' to learn more about interactive tables.';\n",
              "        element.innerHTML = '';\n",
              "        dataTable['output_type'] = 'display_data';\n",
              "        await google.colab.output.renderOutput(dataTable, element);\n",
              "        const docLink = document.createElement('div');\n",
              "        docLink.innerHTML = docLinkHtml;\n",
              "        element.appendChild(docLink);\n",
              "      }\n",
              "    </script>\n",
              "  </div>\n",
              "\n",
              "\n",
              "<div id=\"df-6dd9344d-9cbd-4878-a734-f517e77db730\">\n",
              "  <button class=\"colab-df-quickchart\" onclick=\"quickchart('df-6dd9344d-9cbd-4878-a734-f517e77db730')\"\n",
              "            title=\"Suggest charts\"\n",
              "            style=\"display:none;\">\n",
              "\n",
              "<svg xmlns=\"http://www.w3.org/2000/svg\" height=\"24px\"viewBox=\"0 0 24 24\"\n",
              "     width=\"24px\">\n",
              "    <g>\n",
              "        <path d=\"M19 3H5c-1.1 0-2 .9-2 2v14c0 1.1.9 2 2 2h14c1.1 0 2-.9 2-2V5c0-1.1-.9-2-2-2zM9 17H7v-7h2v7zm4 0h-2V7h2v10zm4 0h-2v-4h2v4z\"/>\n",
              "    </g>\n",
              "</svg>\n",
              "  </button>\n",
              "\n",
              "<style>\n",
              "  .colab-df-quickchart {\n",
              "      --bg-color: #E8F0FE;\n",
              "      --fill-color: #1967D2;\n",
              "      --hover-bg-color: #E2EBFA;\n",
              "      --hover-fill-color: #174EA6;\n",
              "      --disabled-fill-color: #AAA;\n",
              "      --disabled-bg-color: #DDD;\n",
              "  }\n",
              "\n",
              "  [theme=dark] .colab-df-quickchart {\n",
              "      --bg-color: #3B4455;\n",
              "      --fill-color: #D2E3FC;\n",
              "      --hover-bg-color: #434B5C;\n",
              "      --hover-fill-color: #FFFFFF;\n",
              "      --disabled-bg-color: #3B4455;\n",
              "      --disabled-fill-color: #666;\n",
              "  }\n",
              "\n",
              "  .colab-df-quickchart {\n",
              "    background-color: var(--bg-color);\n",
              "    border: none;\n",
              "    border-radius: 50%;\n",
              "    cursor: pointer;\n",
              "    display: none;\n",
              "    fill: var(--fill-color);\n",
              "    height: 32px;\n",
              "    padding: 0;\n",
              "    width: 32px;\n",
              "  }\n",
              "\n",
              "  .colab-df-quickchart:hover {\n",
              "    background-color: var(--hover-bg-color);\n",
              "    box-shadow: 0 1px 2px rgba(60, 64, 67, 0.3), 0 1px 3px 1px rgba(60, 64, 67, 0.15);\n",
              "    fill: var(--button-hover-fill-color);\n",
              "  }\n",
              "\n",
              "  .colab-df-quickchart-complete:disabled,\n",
              "  .colab-df-quickchart-complete:disabled:hover {\n",
              "    background-color: var(--disabled-bg-color);\n",
              "    fill: var(--disabled-fill-color);\n",
              "    box-shadow: none;\n",
              "  }\n",
              "\n",
              "  .colab-df-spinner {\n",
              "    border: 2px solid var(--fill-color);\n",
              "    border-color: transparent;\n",
              "    border-bottom-color: var(--fill-color);\n",
              "    animation:\n",
              "      spin 1s steps(1) infinite;\n",
              "  }\n",
              "\n",
              "  @keyframes spin {\n",
              "    0% {\n",
              "      border-color: transparent;\n",
              "      border-bottom-color: var(--fill-color);\n",
              "      border-left-color: var(--fill-color);\n",
              "    }\n",
              "    20% {\n",
              "      border-color: transparent;\n",
              "      border-left-color: var(--fill-color);\n",
              "      border-top-color: var(--fill-color);\n",
              "    }\n",
              "    30% {\n",
              "      border-color: transparent;\n",
              "      border-left-color: var(--fill-color);\n",
              "      border-top-color: var(--fill-color);\n",
              "      border-right-color: var(--fill-color);\n",
              "    }\n",
              "    40% {\n",
              "      border-color: transparent;\n",
              "      border-right-color: var(--fill-color);\n",
              "      border-top-color: var(--fill-color);\n",
              "    }\n",
              "    60% {\n",
              "      border-color: transparent;\n",
              "      border-right-color: var(--fill-color);\n",
              "    }\n",
              "    80% {\n",
              "      border-color: transparent;\n",
              "      border-right-color: var(--fill-color);\n",
              "      border-bottom-color: var(--fill-color);\n",
              "    }\n",
              "    90% {\n",
              "      border-color: transparent;\n",
              "      border-bottom-color: var(--fill-color);\n",
              "    }\n",
              "  }\n",
              "</style>\n",
              "\n",
              "  <script>\n",
              "    async function quickchart(key) {\n",
              "      const quickchartButtonEl =\n",
              "        document.querySelector('#' + key + ' button');\n",
              "      quickchartButtonEl.disabled = true;  // To prevent multiple clicks.\n",
              "      quickchartButtonEl.classList.add('colab-df-spinner');\n",
              "      try {\n",
              "        const charts = await google.colab.kernel.invokeFunction(\n",
              "            'suggestCharts', [key], {});\n",
              "      } catch (error) {\n",
              "        console.error('Error during call to suggestCharts:', error);\n",
              "      }\n",
              "      quickchartButtonEl.classList.remove('colab-df-spinner');\n",
              "      quickchartButtonEl.classList.add('colab-df-quickchart-complete');\n",
              "    }\n",
              "    (() => {\n",
              "      let quickchartButtonEl =\n",
              "        document.querySelector('#df-6dd9344d-9cbd-4878-a734-f517e77db730 button');\n",
              "      quickchartButtonEl.style.display =\n",
              "        google.colab.kernel.accessAllowed ? 'block' : 'none';\n",
              "    })();\n",
              "  </script>\n",
              "</div>\n",
              "\n",
              "    </div>\n",
              "  </div>\n"
            ],
            "application/vnd.google.colaboratory.intrinsic+json": {
              "type": "dataframe",
              "variable_name": "esp_test",
              "summary": "{\n  \"name\": \"esp_test\",\n  \"rows\": 600,\n  \"fields\": [\n    {\n      \"column\": \"PairID\",\n      \"properties\": {\n        \"dtype\": \"string\",\n        \"num_unique_values\": 600,\n        \"samples\": [\n          \"ESP-test-0110\",\n          \"ESP-test-0419\",\n          \"ESP-test-0565\"\n        ],\n        \"semantic_type\": \"\",\n        \"description\": \"\"\n      }\n    },\n    {\n      \"column\": \"Text\",\n      \"properties\": {\n        \"dtype\": \"string\",\n        \"num_unique_values\": 600,\n        \"samples\": [\n          \"El 29 de septiembre de 1849, la reina Victoria viaj\\u00f3 de Swindon en tren a Gloucester ,\\nEl 29 de septiembre de 1849, la reina Victoria viaj\\u00f3 de Swindon a Gloucester en tren ,\",\n          \"Una mujer en una camisa rosada est\\u00e1 de pie detr\\u00e1s de una mesa con muchos aderezos para ensaladas y platos de papel.\\nUna mujer se sienta junto a una mesa cubierta de platos y platillos.\",\n          \"El 11 de septiembre de 1973, la voz de Augusto Pinochet, el general que desde ese d\\u00eda regir\\u00eda el destino de Chile por 17 a\\u00f1os, casi no se escuch\\u00f3 p\\u00fablicamente.\\nEn medio del caos, los capitalinos intentaban volver a sus casas y comunicarse con sus seres queridos.\"\n        ],\n        \"semantic_type\": \"\",\n        \"description\": \"\"\n      }\n    },\n    {\n      \"column\": \"Split\",\n      \"properties\": {\n        \"dtype\": \"object\",\n        \"semantic_type\": \"\",\n        \"description\": \"\"\n      }\n    }\n  ]\n}"
            }
          },
          "metadata": {},
          "execution_count": 5
        }
      ],
      "source": [
        "esp_test.head()"
      ]
    },
    {
      "cell_type": "markdown",
      "metadata": {
        "id": "vB2j5ucf2QkW"
      },
      "source": [
        "### Sentence BERT"
      ]
    },
    {
      "cell_type": "code",
      "execution_count": null,
      "metadata": {
        "id": "t4IpX4Il4qLB",
        "colab": {
          "base_uri": "https://localhost:8080/"
        },
        "outputId": "2017eed0-f133-49ac-a70a-b49bb24d3206"
      },
      "outputs": [
        {
          "output_type": "stream",
          "name": "stderr",
          "text": [
            "/usr/local/lib/python3.10/dist-packages/huggingface_hub/utils/_token.py:88: UserWarning: \n",
            "The secret `HF_TOKEN` does not exist in your Colab secrets.\n",
            "To authenticate with the Hugging Face Hub, create a token in your settings tab (https://huggingface.co/settings/tokens), set it as secret in your Google Colab and restart your session.\n",
            "You will be able to reuse this secret in all of your notebooks.\n",
            "Please note that authentication is recommended but still optional to access public models or datasets.\n",
            "  warnings.warn(\n"
          ]
        }
      ],
      "source": [
        "# Podríamos usar CrossEncoders\n",
        "\n",
        "eng_name = 'sentence-transformers/all-mpnet-base-v2'\n",
        "eng_model = SentenceTransformer(eng_name)\n",
        "\n",
        "esp_name = 'sentence-transformers/paraphrase-multilingual-mpnet-base-v2'\n",
        "esp_model = SentenceTransformer(esp_name)"
      ]
    },
    {
      "cell_type": "code",
      "execution_count": null,
      "metadata": {
        "id": "7d3HA0pD8_BN"
      },
      "outputs": [],
      "source": [
        "def sbert_cos(model, pares):\n",
        "  emb = model.encode(pares, convert_to_tensor = True)\n",
        "  cosine = util.cos_sim(emb, emb)\n",
        "  cos = float(cosine[0][1])\n",
        "  return cos"
      ]
    },
    {
      "cell_type": "code",
      "execution_count": null,
      "metadata": {
        "id": "XlDR_WN55vdv"
      },
      "outputs": [],
      "source": [
        "sbert_esp = [sbert_cos(esp_model, esp_ds['Split'][i]) for i in range(len(esp_ds['Split']))]\n",
        "sbert_eng = [sbert_cos(eng_model, eng_ds['Split'][i]) for i in range(len(eng_ds['Split']))]"
      ]
    },
    {
      "cell_type": "code",
      "execution_count": null,
      "metadata": {
        "id": "U3DKE-bdYghM"
      },
      "outputs": [],
      "source": [
        "\n",
        "# model = SentenceTransformer()\n",
        "# ds = pd.DataFrame()\n",
        "def sbert_lista(model, ds):\n",
        "  aux = [sbert_cos(model, ds['Split'][i]) for i in range(len(ds['Split']))]\n",
        "  return aux"
      ]
    },
    {
      "cell_type": "code",
      "execution_count": null,
      "metadata": {
        "colab": {
          "base_uri": "https://localhost:8080/"
        },
        "id": "Tqf4J26NZI1_",
        "outputId": "3b1c8a9d-ba7e-446e-e3ca-7f6570b3a332"
      },
      "outputs": [
        {
          "output_type": "stream",
          "name": "stdout",
          "text": [
            "1562 140 600\n"
          ]
        }
      ],
      "source": [
        "sbert_esp_train = sbert_lista(esp_model, esp_train)\n",
        "sbert_esp_val = sbert_lista(esp_model, esp_val)\n",
        "sbert_esp_test = sbert_lista(esp_model, esp_test)\n",
        "\n",
        "print(len(sbert_esp_train), len(sbert_esp_val), len(sbert_esp_test))"
      ]
    },
    {
      "cell_type": "code",
      "execution_count": null,
      "metadata": {
        "colab": {
          "base_uri": "https://localhost:8080/"
        },
        "id": "zy2V8AvBbAD4",
        "outputId": "d1957d32-8bf2-4233-f4ab-5323d8ff1dbb"
      },
      "outputs": [
        {
          "output_type": "stream",
          "name": "stdout",
          "text": [
            "5500 250 2600\n"
          ]
        }
      ],
      "source": [
        "sbert_eng_train = sbert_lista(eng_model, eng_train)\n",
        "sbert_eng_val = sbert_lista(eng_model, eng_val)\n",
        "sbert_eng_test = sbert_lista(eng_model, eng_test)\n",
        "\n",
        "print(len(sbert_eng_train), len(sbert_eng_val), len(sbert_eng_test))"
      ]
    },
    {
      "cell_type": "markdown",
      "metadata": {
        "id": "KiDlLKK8ohQL"
      },
      "source": [
        "### Diferencia de Longitud"
      ]
    },
    {
      "cell_type": "code",
      "execution_count": null,
      "metadata": {
        "id": "EF2Ce_FnojIU"
      },
      "outputs": [],
      "source": [
        "def get_diff(pair):\n",
        "    return abs(len(pair[0]) - len(pair[1])) / (len(pair[0]) + len(pair[1]))\n",
        "\n",
        "def calc_diff(info):\n",
        "    \"\"\"\n",
        "    Nos dice la deferencia de longitud entre dos oraciones\n",
        "    Crea dos nuevas columnas\n",
        "    \"\"\"\n",
        "    diff = []\n",
        "    diff_stop = []\n",
        "    for i in range(len(info)):\n",
        "        #La diferencia de longitud así como nos la dan\n",
        "        aux = info.iloc[i]['Text'].split('\\n')\n",
        "        aux[0] = aux[0].split()\n",
        "        aux[1] = aux[1].split()\n",
        "        diff.append(get_diff(aux))\n",
        "        #La diferencia quitando stopwords, tokenizada\n",
        "        diff_stop.append(get_diff(info.iloc[i]['Split']))\n",
        "    return info.assign(Diff=diff, Diff_stop=diff_stop)"
      ]
    },
    {
      "cell_type": "code",
      "execution_count": null,
      "metadata": {
        "id": "johy9NaKbzVt"
      },
      "outputs": [],
      "source": [
        "# ds DE NUEVO ES EL JODIDO DATAFRAME ME CAGOOOOOOOOOOOOOO\n",
        "\n",
        "def macaco(ds):\n",
        "  aux_df = calc_diff(ds)\n",
        "  diff1 = aux_df['Diff']\n",
        "  diff2 = aux_df['Diff_stop']\n",
        "  return diff1, diff2"
      ]
    },
    {
      "cell_type": "code",
      "execution_count": null,
      "metadata": {
        "id": "5GaCdg_WceJl"
      },
      "outputs": [],
      "source": [
        "diff_eng_train = macaco(eng_train)[0]\n",
        "diff_eng_val = macaco(eng_val)[0]\n",
        "diff_eng_test = macaco(eng_test)[0]\n",
        "\n",
        "diff_esp_train = macaco(esp_train)[0]\n",
        "diff_esp_val = macaco(esp_val)[0]\n",
        "diff_esp_test = macaco(esp_test)[0]"
      ]
    },
    {
      "cell_type": "markdown",
      "metadata": {
        "id": "BCNjTRo5QLHD"
      },
      "source": [
        "### N-grams"
      ]
    },
    {
      "cell_type": "code",
      "execution_count": null,
      "metadata": {
        "id": "Zc_jYcpNTC99"
      },
      "outputs": [],
      "source": [
        "# Podemos considerar vectorizadores a partir del corpus separado, pero creo que es mejor que esté mixto\n",
        "\n",
        "# gram = CountVectorizer: Corresponde a los unigram, bigram, trigram, obtenidos previamente\n",
        "# corpus = list of string (creo): corresponde al corpus limpio listo para procesar, NO se quitan stopwords.\n",
        "def ngram(gram, corpus):\n",
        "  ngram1 = gram.fit_transform(corpus)\n",
        "  ngram2 = gram.transform(corpus)\n",
        "  ngram = gram.get_feature_names_out()\n",
        "  return gram\n",
        "\n",
        "# Funciones de extracción de n-grams\n",
        "# Obs a futuro: Debería de comentar más mi código, está terrorífico.\n",
        "def uni_list1(a=int, b=str, c=str):\n",
        "    index = []\n",
        "    final = []\n",
        "\n",
        "    sent = c[a].toarray()\n",
        "\n",
        "    for i in range(len(sent[0])):\n",
        "        if sent[0][i] != 0:\n",
        "            index.append(i)\n",
        "\n",
        "    for i in index:\n",
        "        final.append(b[i])\n",
        "\n",
        "    return final\n",
        "\n",
        "def ngram_metrica(a, b):\n",
        "    val = 0\n",
        "    set1 = set(a)\n",
        "    set2 = set(b)\n",
        "    inter = set1.intersection(set2)\n",
        "    if len(set1) != 0:\n",
        "        val = len(inter)/len(set1)\n",
        "    return val\n",
        "\n",
        "#ds dataframe a usar\n",
        "def ngram_met(ds, a=str, b=str, c=str):\n",
        "    aux = []\n",
        "    for i in range(len(ds)):\n",
        "        hola = uni_list1(i, a, b)\n",
        "        hola1 = uni_list1(i, a, c)\n",
        "        aux.append(ngram_metrica(hola, hola1))\n",
        "    return aux\n",
        "\n",
        "def clean(doc):\n",
        "    doc = \"\".join([char for char in doc if char not in string.punctuation and not char.isdigit()])\n",
        "    doc = \" \".join([token for token in doc.split() if token not in stop_words])\n",
        "    return doc.lower()"
      ]
    },
    {
      "cell_type": "code",
      "execution_count": null,
      "metadata": {
        "id": "jJ3jOn2q2uZN"
      },
      "outputs": [],
      "source": [
        "# ds = Columna split del datafram\n",
        "def vocab(ds):\n",
        "  a = []\n",
        "  b = []\n",
        "  for i in ds:\n",
        "    a.append(clean(i[0]))\n",
        "    b.append(clean(i[1]))\n",
        "  return a, b\n",
        "\n",
        "esp1, esp2 = vocab(esp_ds['Split'])\n",
        "eng1, eng2 = vocab(eng_ds['Split'])"
      ]
    },
    {
      "cell_type": "code",
      "execution_count": null,
      "metadata": {
        "id": "7Oo-u68WaQ6Y"
      },
      "outputs": [],
      "source": [
        "# gram corresponde a uni, bi, tri, objetos de CountVectorizer\n",
        "# a, b corresponden al vocabulario de cada oración, obtenidos por la función vocab()\n",
        "def ngram_prep(a, b, gram):\n",
        "  aux = gram.fit_transform(a)\n",
        "  aux2 = gram.transform(b)\n",
        "  aux1 = gram.get_feature_names_out()\n",
        "  return aux1, aux, aux2"
      ]
    },
    {
      "cell_type": "code",
      "execution_count": null,
      "metadata": {
        "id": "CGAOZE_b4DeQ"
      },
      "outputs": [],
      "source": [
        "# n = int: corresponde al ngram dado\n",
        "# ayuda, ayuda2 = listas: corresponden al vocabulario en cuestión\n",
        "# ds = columna del dataframe: eng_ds['Split']\n",
        "# La lista que obtenemos al final corresponde a los valores a pasarle al modelo\n",
        "def proceso(n, ayuda, ayuda2, ds):\n",
        "  gram = CountVectorizer(ngram_range=(n,n))\n",
        "  a, b, c = ngram_prep(ayuda, ayuda2, gram)\n",
        "  gram_list = ngram_met(ds, a, b, c)\n",
        "  return gram_list"
      ]
    },
    {
      "cell_type": "code",
      "execution_count": null,
      "metadata": {
        "id": "MjRXzQsE4n_V"
      },
      "outputs": [],
      "source": [
        "#unigram_esp = proceso(1, esp1, esp2, esp_ds['Split'])\n",
        "#bigram_esp = proceso(2, esp1, esp2, esp_ds['Split'])\n",
        "#trigram_esp = proceso(3, esp1, esp2, esp_ds['Split'])\n",
        "\n",
        "#unigram_eng = proceso(1, eng1, eng2, eng_ds['Split'])\n",
        "#bigram_eng = proceso(2, eng1, eng2, eng_ds['Split'])\n",
        "#trigram_eng = proceso(3, eng1, eng2, eng_ds['Split'])"
      ]
    },
    {
      "cell_type": "code",
      "execution_count": null,
      "metadata": {
        "id": "xJIzD8suyJnS"
      },
      "outputs": [],
      "source": [
        "# Una disculpa por las siguiente celdas Karla, se ve ojete lo sé 😢"
      ]
    },
    {
      "cell_type": "code",
      "execution_count": null,
      "metadata": {
        "id": "3uVVYvxfgVhm"
      },
      "outputs": [],
      "source": [
        "# Esto lo necesaitamos para los distintos datasets de entreno, val, prueba.\n",
        "nesp_tr1, nesp_tr2 = vocab(esp_train['Split'])\n",
        "nesp_v1, nesp_v2 = vocab(esp_val['Split'])\n",
        "nesp_te1, nesp_te2 = vocab(esp_test['Split'])\n",
        "\n",
        "neng_tr1, neng_tr2 = vocab(eng_train['Split'])\n",
        "neng_v1, neng_v2 = vocab(eng_val['Split'])\n",
        "neng_te1, neng_te2 = vocab(eng_test['Split'])"
      ]
    },
    {
      "cell_type": "code",
      "execution_count": null,
      "metadata": {
        "id": "YKYYgTeDfjHd"
      },
      "outputs": [],
      "source": [
        "uni_esp_train = proceso(1, nesp_tr1, nesp_tr2, esp_train['Split'])\n",
        "uni_esp_val = proceso(1, nesp_v1, nesp_v2, esp_val['Split'])\n",
        "#uni_esp_test = proceso(1, nesp_te1, nesp_te2, esp_test['Split'])\n",
        "\n",
        "bi_esp_train = proceso(2, nesp_tr1, nesp_tr2, esp_train['Split'])\n",
        "bi_esp_val = proceso(2, nesp_v1, nesp_v2, esp_val['Split'])\n",
        "#bi_esp_test = proceso(2, nesp_te1, nesp_te2, esp_test['Split'])\n",
        "\n",
        "tri_esp_train = proceso(3, nesp_tr1, nesp_tr2, esp_train['Split'])\n",
        "tri_esp_val = proceso(3, nesp_v1, nesp_v2, esp_val['Split'])\n",
        "#tri_esp_test = proceso(3, nesp_te1, nesp_te2, esp_test['Split'])"
      ]
    },
    {
      "cell_type": "code",
      "execution_count": null,
      "metadata": {
        "id": "lz2Wfd_qh0k7"
      },
      "outputs": [],
      "source": [
        "uni_eng_train = proceso(1, neng_tr1, neng_tr2, eng_train['Split'])\n",
        "uni_eng_val = proceso(1, neng_v1, neng_v2, eng_val['Split'])\n",
        "#uni_eng_test = proceso(1, neng_te1, neng_te2, eng_test['Split'])\n",
        "\n",
        "bi_eng_train = proceso(2, neng_tr1, neng_tr2, eng_train['Split'])\n",
        "bi_eng_val = proceso(2, neng_v1, neng_v2, eng_val['Split'])\n",
        "#bi_eng_test = proceso(2, neng_te1, neng_te2, eng_test['Split'])\n",
        "\n",
        "tri_eng_train = proceso(3, neng_tr1, neng_tr2, eng_train['Split'])\n",
        "tri_eng_val = proceso(3, neng_v1, neng_v2, eng_val['Split'])\n",
        "#tri_eng_test = proceso(3, neng_te1, neng_te2, eng_test['Split'])"
      ]
    },
    {
      "cell_type": "code",
      "execution_count": null,
      "metadata": {
        "id": "JPP5JB_SbuV6"
      },
      "outputs": [],
      "source": [
        "# La lista de las métricas que usaremos es unigram_esp, bigram_esp, trigram_esp para ESPAÑOL\n",
        "# para INGLÉS son unigram_eng, bigram_eng, trigram_eng"
      ]
    },
    {
      "cell_type": "markdown",
      "metadata": {
        "id": "J6lqyM6pjQ6w"
      },
      "source": [
        "### AnglE Embeddings default:"
      ]
    },
    {
      "cell_type": "code",
      "execution_count": null,
      "metadata": {
        "id": "pxhT7AQlgDW0"
      },
      "outputs": [],
      "source": [
        "angle_bert = AnglE.from_pretrained('SeanLee97/angle-bert-base-uncased-nli-en-v1', max_length=128, pooling_strategy='cls').cuda()\n",
        "#angle_llama = AnglE.from_pretrained('NousResearch/Llama-2-7b-hf', pretrained_lora_path='SeanLee97/angle-llama-7b-nli-v2').cuda()"
      ]
    },
    {
      "cell_type": "code",
      "execution_count": null,
      "metadata": {
        "id": "xbQE0nR8z2WY"
      },
      "outputs": [],
      "source": [
        "#print(\"All predefined promtps: \", Prompts.list_prompts())\n",
        "angle_bert.set_prompt(prompt=Prompts.A)\n",
        "#angle_llama.set_prompt(promtp=None)"
      ]
    },
    {
      "cell_type": "code",
      "execution_count": null,
      "metadata": {
        "id": "ZmoXB6eqcOhl"
      },
      "outputs": [],
      "source": [
        "# encode() sirve para calcular la similitud a partir de los AnglE embeddings\n",
        "\n",
        "# eval() realiza el proceso de evaluación global considerando SOLO los AnglE embeddings\n",
        "\n",
        "# angle_list() es un paso intermedio para obtener la lista de similitud a partir de los AnglE embeddings\n",
        "# la lista de aquí entra al vector característico para el modelo de regresión\n",
        "\n",
        "\n",
        "# i = int: i-ésimo par de oraciones a comparar\n",
        "# ds = pd.DataFrame: dataset a usar, inglés o español\n",
        "# OBS: cambiamos angle_llama por angle_bert dependiendo del modelo usado. (llama no quiere jalar en google colab para pobres)\n",
        "def encode(i, ds):\n",
        "\n",
        "  vec = angle_bert.encode(\n",
        "      [{'text': ds['Split'][i][0]}, {'text': ds['Split'][i][1]}],\n",
        "      to_numpy=True\n",
        "  )\n",
        "\n",
        "  #score = ds['Score'][i]\n",
        "\n",
        "  cos = nn.CosineSimilarity(dim=0)\n",
        "  tensor = torch.from_numpy(vec)\n",
        "  output = cos(*tensor)\n",
        "\n",
        "  return output\n",
        "\n",
        "# ds = pd.Dataframe: el que vayamos a usar\n",
        "def angle_list(ds):\n",
        "  aux = ds['Split']\n",
        "  return [float(encode(i, ds)) for i in range(len(aux))]\n",
        "\n",
        "# ds = pd.DataFrame: el dataset a usar\n",
        "def eval(ds):\n",
        "  aux = ds['Split']\n",
        "  pred = [encode(i, ds)[0] for i in range(len(aux))]\n",
        "  gold = [float(ds['Score'][i]) for i in range(len(ds['Score']))]\n",
        "\n",
        "  return round(spearmanr(gold, pred)[0],3)"
      ]
    },
    {
      "cell_type": "code",
      "execution_count": null,
      "metadata": {
        "id": "QIgiT2TGhysn"
      },
      "outputs": [],
      "source": [
        "#angle_esp = angle_list(esp_ds)\n",
        "#angle_eng = angle_list(eng_ds)"
      ]
    },
    {
      "cell_type": "code",
      "execution_count": null,
      "metadata": {
        "id": "dQ8F71eQivLE"
      },
      "outputs": [],
      "source": [
        "angle_esp_train = angle_list(esp_train)\n",
        "angle_esp_val = angle_list(esp_val)\n",
        "#angle_esp_test = angle_list(esp_test)\n",
        "\n",
        "angle_eng_train = angle_list(eng_train)\n",
        "angle_eng_val = angle_list(eng_val)\n",
        "#angle_eng_test = angle_list(eng_test)"
      ]
    },
    {
      "cell_type": "markdown",
      "metadata": {
        "id": "WrjLyjc8jkXP"
      },
      "source": [
        "### AnglE Embeddings finetuning:"
      ]
    },
    {
      "cell_type": "code",
      "execution_count": null,
      "metadata": {
        "id": "fJopf6CiZcpI"
      },
      "outputs": [],
      "source": [
        "from datasets import Dataset, DatasetDict\n",
        "from torch.utils.data import DataLoader\n",
        "\n",
        "#El resto de las herramientas ya están importadas"
      ]
    },
    {
      "cell_type": "code",
      "execution_count": null,
      "metadata": {
        "id": "KYc7SYHGkD0o"
      },
      "outputs": [],
      "source": [
        "def finetune_prep(ds):\n",
        "  ds[['text1', 'text2']] = ds['Text'].str.split(\"\\n\", expand=True)\n",
        "  ds['label'] = ds['Score']\n",
        "  ds = ds.drop(columns=['PairID', 'Text', 'Score', 'Split'])\n",
        "  return ds\n",
        "\n",
        "#finetune_eng = finetune_prep(eng_ds)\n",
        "finetune_esp = finetune_prep(esp_ds)"
      ]
    },
    {
      "cell_type": "code",
      "execution_count": null,
      "metadata": {
        "id": "9SJFOTl9oSgw"
      },
      "outputs": [],
      "source": [
        "#ft_eng = Dataset.from_pandas(finetune_eng)\n",
        "ft_esp = Dataset.from_pandas(finetune_esp)\n",
        "\n",
        "#ft_eng = ft_eng.select_columns(['text1', 'text2', 'label']) #Esto qué hace o qué pedo jaja"
      ]
    },
    {
      "cell_type": "code",
      "execution_count": null,
      "metadata": {
        "id": "UH-K7lLRqsPt"
      },
      "outputs": [],
      "source": [
        "# ds = Dataset: el dataset obtenido tras aplicar finetune_prep()\n",
        "def ft_prep(ds):\n",
        "  ttv = ds.train_test_split(test_size=0.2)\n",
        "  test_valid = ttv['test'].train_test_split(test_size = 0.5)\n",
        "  ds = DatasetDict(\n",
        "      {\n",
        "        'train': ttv['train'],\n",
        "        'test': test_valid['test'],\n",
        "        'validation': test_valid['train']\n",
        "      }\n",
        "  )\n",
        "\n",
        "  return ds\n",
        "\n",
        "#ft_eng1 = ft_prep(ft_eng)\n",
        "ft_esp1 = ft_prep(ft_esp)"
      ]
    },
    {
      "cell_type": "code",
      "execution_count": null,
      "metadata": {
        "id": "2ZDjuj9VpMpR"
      },
      "outputs": [],
      "source": [
        "# Tenemos que guardar los valores de verdad del train test.\n",
        "train = ft_esp1['train'].shuffle().map(AngleDataTokenizer(angle_bert.tokenizer, angle_bert.max_length), num_proc=8)\n",
        "valid = ft_esp1['validation'].map(AngleDataTokenizer(angle_bert.tokenizer, angle_bert.max_length), num_proc=8)\n",
        "test = ft_esp1['test'].map(AngleDataTokenizer(angle_bert.tokenizer, angle_bert.max_length), num_proc=8)"
      ]
    },
    {
      "cell_type": "code",
      "execution_count": null,
      "metadata": {
        "id": "8a0Gqyrqsvc-"
      },
      "outputs": [],
      "source": [
        "angle_bert.fit(\n",
        "    train_ds=train,\n",
        "    valid_ds=valid,\n",
        "    output_dir='checkpoints/semeval_v1',\n",
        "    batch_size=32,\n",
        "    epochs=5,\n",
        "    learning_rate=2e-5,\n",
        "    save_steps=100,\n",
        "    eval_steps=1000,\n",
        "    warmup_steps=0,\n",
        "    gradient_accumulation_steps=1,\n",
        "    loss_kwargs={\n",
        "        'w1': 1.0,\n",
        "        'w2': 1.0,\n",
        "        'w3': 1.0,\n",
        "        'cosine_tau': 20,\n",
        "        'ibn_tau': 20,\n",
        "        'angle_tau': 1.0\n",
        "    },\n",
        "    fp16=True,\n",
        "    logging_steps=100\n",
        ")"
      ]
    },
    {
      "cell_type": "code",
      "execution_count": null,
      "metadata": {
        "id": "Wf1SkuAMs6fG"
      },
      "outputs": [],
      "source": [
        "corrcoef, accuracy = angle_bert.evaluate(test, device=angle_bert.device)\n",
        "print('corrcoef:', corrcoef)"
      ]
    },
    {
      "cell_type": "code",
      "execution_count": null,
      "metadata": {
        "id": "DaQ3lNVuyKQ-"
      },
      "outputs": [],
      "source": [
        "print(\"Spearman FT inglés: \", eval(esp_ds))"
      ]
    },
    {
      "cell_type": "markdown",
      "metadata": {
        "id": "nyx0r66zsSOt"
      },
      "source": [
        "### Juntamos características"
      ]
    },
    {
      "cell_type": "code",
      "execution_count": null,
      "metadata": {
        "id": "Y0U4NTjqsRlO"
      },
      "outputs": [],
      "source": [
        "# Las listas que tenemos son:\n",
        "# Español: angle_esp, unigram_esp, bigram_esp, trigram_esp, diff, diff_stop\n",
        "# Inglés: angle_eng, unigram_eng, bigram_eng, trigram_eng, diff_eng, diff_stop_eng"
      ]
    },
    {
      "cell_type": "code",
      "execution_count": null,
      "metadata": {
        "id": "SB4Jpuk5h4tu"
      },
      "outputs": [],
      "source": [
        "#lista_fin_esp = [[angle_esp[i], unigram_esp[i], bigram_esp[i], trigram_esp[i], diff[i], diff_stop[i], sbert_esp[i]] for i in range(len(angle_esp))]\n",
        "#lista_fin_eng = [[angle_eng[i], unigram_eng[i], bigram_eng[i], trigram_eng[i], diff_eng[i], diff_stop_eng[i], sbert_eng[i]] for i in range(len(angle_eng))]"
      ]
    },
    {
      "cell_type": "code",
      "execution_count": null,
      "metadata": {
        "id": "0E-mFWjDjCWm"
      },
      "outputs": [],
      "source": [
        "final_esp_train = [[angle_esp_train[i], uni_esp_train[i], bi_esp_train[i], tri_esp_train[i], diff_esp_train[i], sbert_esp_train[i]] for i in range(len(angle_esp_train))]\n",
        "final_esp_val = [[angle_esp_val[i], uni_esp_val[i], bi_esp_val[i], tri_esp_val[i], diff_esp_val[i], sbert_esp_val[i]] for i in range(len(angle_esp_val))]\n",
        "#final_esp_test = [[angle_esp_test[i], uni_esp_test[i], bi_esp_test[i], tri_esp_test[i], diff_esp_test[i], sbert_esp_test[i]] for i in range(len(angle_esp_test))]\n",
        "\n",
        "final_eng_train = [[angle_eng_train[i], uni_eng_train[i], bi_eng_train[i], tri_eng_train[i], diff_eng_train[i], sbert_eng_train[i]] for i in range(len(angle_eng_train))]\n",
        "final_eng_val = [[angle_eng_val[i], uni_eng_val[i], bi_eng_val[i], tri_eng_val[i], diff_eng_val[i], sbert_eng_val[i]] for i in range(len(angle_eng_val))]\n",
        "#final_eng_test = [[angle_eng_test[i], uni_eng_test[i], bi_eng_test[i], tri_eng_test[i], diff_eng_test[i], sbert_eng_test[i]] for i in range(len(angle_eng_test))]"
      ]
    },
    {
      "cell_type": "code",
      "execution_count": null,
      "metadata": {
        "id": "dEE-SBhHUu4K"
      },
      "outputs": [],
      "source": [
        "# ABLATION TEST\n",
        "def gen_list(*args):\n",
        "  zipped = zip(*args)\n",
        "  crayolas = [list(i) for i in zipped]\n",
        "  return crayolas"
      ]
    },
    {
      "cell_type": "markdown",
      "metadata": {
        "id": "J0gmcBailHvO"
      },
      "source": [
        "### Modelos de regresión"
      ]
    },
    {
      "cell_type": "code",
      "execution_count": null,
      "metadata": {
        "id": "_VTmlcfTy3h-"
      },
      "outputs": [],
      "source": [
        "from sklearn import svm\n",
        "from sklearn.ensemble import RandomForestRegressor\n",
        "\n",
        "def ez_reg(a, x_train, x_test, y_train, y_test):\n",
        "  a.fit(x_train, y_train)\n",
        "  pred = a.predict(x_test)\n",
        "  spear = spearmanr(pred, y_test)[0]\n",
        "  return spear, pred, a"
      ]
    },
    {
      "cell_type": "code",
      "execution_count": null,
      "metadata": {
        "id": "lMWJyazlsFqP"
      },
      "outputs": [],
      "source": [
        "svm_esp = ez_reg(svm.SVR(), final_esp_train, final_esp_val, esp_train['Score'], esp_val['Score'])\n",
        "svm_eng = ez_reg(svm.SVR(), final_eng_train, final_eng_val, eng_train['Score'], eng_val['Score'])\n",
        "forest_esp = ez_reg(RandomForestRegressor(max_depth=5, random_state=0), final_esp_train, final_esp_val, esp_train['Score'], esp_val['Score'])\n",
        "forest_eng = ez_reg(RandomForestRegressor(max_depth=5, random_state=0), final_eng_train, final_eng_val, eng_train['Score'], eng_val['Score'])\n",
        "svm_esp_epsilon = ez_reg(svm.SVR(C=1.0, epsilon=0.3), final_esp_train, final_esp_val, esp_train['Score'], esp_val['Score'])\n",
        "svm_eng_epsilon = ez_reg(svm.SVR(C=1.0, epsilon=0.3), final_eng_train, final_eng_val, eng_train['Score'], eng_val['Score'])\n",
        "tedridge_esp = ez_reg(linear_model.Ridge(alpha=.9), final_esp_train, final_esp_val, esp_train['Score'], esp_val['Score'])\n",
        "tedridge_eng = ez_reg(linear_model.Ridge(alpha=.8), final_eng_train, final_eng_val, eng_train['Score'], eng_val['Score'])\n",
        "\n",
        "print(\"Español: \")\n",
        "print(\"SVM: \", svm_esp[0], \"Forest: \", forest_esp[0], \"SVM Epsilon: \", svm_esp_epsilon[0], \"Ridge: \", tedridge_esp[0])\n",
        "print(\"English: \")\n",
        "print(\"SVM: \", svm_eng[0], \"Forest: \", forest_eng[0], \"SVM Epsilon: \", svm_eng_epsilon[0], \"Ridge: \", tedridge_eng[0])"
      ]
    },
    {
      "cell_type": "code",
      "execution_count": null,
      "metadata": {
        "id": "_t4SxLmZqvIt"
      },
      "outputs": [],
      "source": [
        "#ablation_embeddings_train = gen_list(angle_esp_train, sbert_esp_train, uni_esp_train, bi_esp_train, tri_esp_train)\n",
        "#ablation_embeddings_val = gen_list(angle_esp_val, sbert_esp_val, uni_esp_val, bi_esp_val, tri_esp_val)\n",
        "#ablation_embeddings_test = gen_list(angle_esp_test, sbert_esp_test, uni_esp_test, bi_esp_test, tri_esp_test)\n",
        "\n",
        "#ablation_ND_train = gen_list(uni_esp_train, bi_esp_train, tri_esp_train, diff_esp_train)\n",
        "#ablation_ND_val = gen_list(uni_esp_val, bi_esp_val, tri_esp_val, diff_esp_val)\n",
        "#ablation_ND_test = gen_list(uni_esp_test, bi_esp_test, tri_esp_test, diff_esp_test)\n",
        "\n",
        "\n",
        "#ENGLISH\n",
        "ab_N_train = gen_list(uni_esp_train, bi_esp_train, tri_esp_train)\n",
        "ab_N_val = gen_list(uni_esp_val, bi_esp_val, tri_esp_val)\n",
        "\n",
        "ab_ND_train = gen_list(uni_esp_train, bi_esp_train, tri_esp_train, diff_esp_train)\n",
        "ab_ND_val = gen_list(uni_esp_val, bi_esp_val, tri_esp_val, diff_esp_val)"
      ]
    },
    {
      "cell_type": "code",
      "source": [
        "def reshape(x):\n",
        "  return (np.array(x)).reshape(-1,1)"
      ],
      "metadata": {
        "id": "iIY0cYwJ6GHr"
      },
      "execution_count": null,
      "outputs": []
    },
    {
      "cell_type": "code",
      "source": [
        "sbert_esp = reshape(sbert_esp_train)\n",
        "angle_esp = reshape(angle_esp_train)\n",
        "ngram_esp = reshape(ab_N_train)\n",
        "diff_esp = reshape(diff_esp_train)\n",
        "nd_esp = reshape(ab_ND_train)\n",
        "\n",
        "sbert_espval = reshape(sbert_esp_val)\n",
        "angle_espval = reshape(angle_esp_val)\n",
        "ngram_espval = reshape(ab_N_val)\n",
        "diff_espval = reshape(diff_esp_val)\n",
        "nd_espval = reshape(ab_ND_val)"
      ],
      "metadata": {
        "id": "VlzDfkld5hiW"
      },
      "execution_count": null,
      "outputs": []
    },
    {
      "cell_type": "code",
      "execution_count": null,
      "metadata": {
        "id": "TBKws4qPr9PY"
      },
      "outputs": [],
      "source": [
        "# ABLATION TEST\n",
        "ab_S = ez_reg(linear_model.Ridge(alpha=.9), sbert_esp, sbert_espval, esp_train['Score'], esp_val['Score'])\n",
        "ab_A = ez_reg(linear_model.Ridge(alpha=.9), angle_esp, angle_espval, esp_train['Score'], esp_val['Score'])\n",
        "ab_N = ez_reg(linear_model.Ridge(alpha=.9), ab_N_train, ab_N_val, esp_train['Score'], esp_val['Score'])\n",
        "ab_D = ez_reg(linear_model.Ridge(alpha=.9), diff_esp, diff_espval, esp_train['Score'], esp_val['Score'])\n",
        "ab_ND = ez_reg(linear_model.Ridge(alpha=.9), ab_ND_train, ab_ND_val, esp_train['Score'], esp_val['Score'])"
      ]
    },
    {
      "cell_type": "code",
      "execution_count": null,
      "metadata": {
        "colab": {
          "base_uri": "https://localhost:8080/"
        },
        "id": "asA7Hwh2sJ_2",
        "outputId": "b44e27be-9d93-4d26-94f8-8af3a5af5292"
      },
      "outputs": [
        {
          "output_type": "stream",
          "name": "stdout",
          "text": [
            "0.6397963493411423 0.6212947431534506 0.6431819101891384 0.5594840672838401 0.6676691399523925\n"
          ]
        }
      ],
      "source": [
        "print(ab_S[0], ab_A[0], ab_N[0], ab_D[0], ab_ND[0])"
      ]
    },
    {
      "cell_type": "code",
      "execution_count": null,
      "metadata": {
        "id": "kRLOBBOA44aa"
      },
      "outputs": [],
      "source": [
        "# Español\n",
        "#SVM S = 0.6397\n",
        "#SVM A = 0.6140\n",
        "#SVM N = 0.6425\n",
        "#SVM D = 0.5595\n",
        "#SVM N.D. = 0.6560\n",
        "#SVM SAND = 0.688\n",
        "\n",
        "#RF S = 0.6058\n",
        "#RF A = 0.5976\n",
        "#RF N = 0.6232\n",
        "#RF D = 0.5584\n",
        "#RF N.D. = 0.6596\n",
        "#RF SAND = 0.6783\n",
        "\n",
        "#SVME S = 0.6310\n",
        "#SVME A = 0.6038\n",
        "#SVME N = 0.6419\n",
        "#SVME D = 0.5586\n",
        "#SVME N.D. = 0.6658\n",
        "#SVME SAND = 0.6937\n",
        "\n",
        "#Ridge S = 0.6397\n",
        "#Ridge A = 0.6212\n",
        "#Ridge N = 0.6431\n",
        "#Ridge D = 0.5594\n",
        "#Ridge N.D. = 0.6676\n",
        "#Ridge SAND = 0.7029"
      ]
    },
    {
      "cell_type": "code",
      "source": [
        "# INGLÉS\n",
        "#SVM S = 0.7891\n",
        "#SVM A = 0.7789\n",
        "#SVM N = 0.6634\n",
        "#SVM D = 0.2343\n",
        "#SVM N.D. = 0.6655\n",
        "#SVM SAND = 0.688\n",
        "\n",
        "#RF S = 0.7847\n",
        "#RF A = 0.7737\n",
        "#RF N = 0.6496\n",
        "#RF D = 0.2090\n",
        "#RF N.D. = 0.6584\n",
        "#RF SAND = 0.8197\n",
        "\n",
        "#SVME S = 0.7865\n",
        "#SVME A = 0.7772\n",
        "#SVME N = 0.6620\n",
        "#SVME D = 0.2839\n",
        "#SVME N.D. = 0.6776\n",
        "#SVME SAND = 0.7992\n",
        "\n",
        "#Ridge S = 0.7891\n",
        "#Ridge A = 0.7789\n",
        "#Ridge N = 0.6584\n",
        "#Ridge D = 0.2888\n",
        "#Ridge N.D. = 0.6583\n",
        "#Ridge SAND = 0.7921"
      ],
      "metadata": {
        "id": "czEdCYS4A3-O"
      },
      "execution_count": null,
      "outputs": []
    },
    {
      "cell_type": "code",
      "execution_count": null,
      "metadata": {
        "id": "o5nZgpyrtUW9"
      },
      "outputs": [],
      "source": [
        "# Inglés\n",
        "\n",
        "# Modelo usado: 0.8133\n",
        "#Solo Embeddings INGLÉS: 0.81465\n",
        "#{1,2,3}-Grams, Distancia: 0.66559\n",
        "#{2,3}-Grams, Distancia: 0.5700\n",
        "#{1,3}-Grams, Distancia: 0.66278\n",
        "#{1,2}-Grams, Distancia: 0.66737\n",
        "# Unigram es el más importante de los n-gramas\n",
        "#{1,2,3}-Grams: 0.66340\n",
        "# La distancia no aporta demasiado ptm somos unos macacos\n",
        "# Embs y unigram: 0.81521 AAAAAAAAAAAAAAAAAAAAAAHHHHHHHHHHHHHHHHHHHHHHHHHHHHHHHHHH ME LLEVA LA VERGAAAAAAAAAAAAAAAAAAAAAAA\n",
        "# Embs y bigram: 0.81538 AAAAAAAAAAAAAAAAAAAAAAAAAAAAAAAAAAAAAAAAAAAAHHHHHHHHHHHHHHHHHHHHHHHHHHHHHHHHHHHHHHHHHHHHH ME CAGO\n",
        "# Embs y tri: 0.81510 Meh\n",
        "# Embs, {1,2}-Gram: 0.81709 estoy a dos de matarme.\n",
        "# Embs y distancia: 0.81195 XD\n",
        "# Embs, {1,2,3}-Gram: 0.8164 Oficialmente me voy a disparar en la pinga"
      ]
    },
    {
      "cell_type": "code",
      "execution_count": null,
      "metadata": {
        "colab": {
          "base_uri": "https://localhost:8080/",
          "height": 423
        },
        "id": "H0O3QIKypJwX",
        "outputId": "451969bd-1adf-445d-edc6-9d617b175814"
      },
      "outputs": [
        {
          "data": {
            "application/vnd.google.colaboratory.intrinsic+json": {
              "summary": "{\n  \"name\": \"df_esp\",\n  \"rows\": 600,\n  \"fields\": [\n    {\n      \"column\": \"PairID\",\n      \"properties\": {\n        \"dtype\": \"string\",\n        \"samples\": [\n          \"ESP-test-0110\",\n          \"ESP-test-0419\",\n          \"ESP-test-0565\"\n        ],\n        \"num_unique_values\": 600,\n        \"semantic_type\": \"\",\n        \"description\": \"\"\n      }\n    },\n    {\n      \"column\": \"Pred_Score\",\n      \"properties\": {\n        \"dtype\": \"number\",\n        \"std\": 0.17016164405632006,\n        \"min\": 0.22219917201899558,\n        \"max\": 0.8154498682301083,\n        \"samples\": [\n          0.8154498682301083,\n          0.5379341440424632,\n          0.3090751917529952\n        ],\n        \"num_unique_values\": 600,\n        \"semantic_type\": \"\",\n        \"description\": \"\"\n      }\n    }\n  ]\n}",
              "type": "dataframe",
              "variable_name": "df_esp"
            },
            "text/html": [
              "\n",
              "  <div id=\"df-211a4ebf-838a-4dec-aceb-1c81c8d31894\" class=\"colab-df-container\">\n",
              "    <div>\n",
              "<style scoped>\n",
              "    .dataframe tbody tr th:only-of-type {\n",
              "        vertical-align: middle;\n",
              "    }\n",
              "\n",
              "    .dataframe tbody tr th {\n",
              "        vertical-align: top;\n",
              "    }\n",
              "\n",
              "    .dataframe thead th {\n",
              "        text-align: right;\n",
              "    }\n",
              "</style>\n",
              "<table border=\"1\" class=\"dataframe\">\n",
              "  <thead>\n",
              "    <tr style=\"text-align: right;\">\n",
              "      <th></th>\n",
              "      <th>PairID</th>\n",
              "      <th>Pred_Score</th>\n",
              "    </tr>\n",
              "  </thead>\n",
              "  <tbody>\n",
              "    <tr>\n",
              "      <th>0</th>\n",
              "      <td>ESP-test-0000</td>\n",
              "      <td>0.736883</td>\n",
              "    </tr>\n",
              "    <tr>\n",
              "      <th>1</th>\n",
              "      <td>ESP-test-0001</td>\n",
              "      <td>0.631972</td>\n",
              "    </tr>\n",
              "    <tr>\n",
              "      <th>2</th>\n",
              "      <td>ESP-test-0002</td>\n",
              "      <td>0.338420</td>\n",
              "    </tr>\n",
              "    <tr>\n",
              "      <th>3</th>\n",
              "      <td>ESP-test-0003</td>\n",
              "      <td>0.241777</td>\n",
              "    </tr>\n",
              "    <tr>\n",
              "      <th>4</th>\n",
              "      <td>ESP-test-0004</td>\n",
              "      <td>0.270513</td>\n",
              "    </tr>\n",
              "    <tr>\n",
              "      <th>...</th>\n",
              "      <td>...</td>\n",
              "      <td>...</td>\n",
              "    </tr>\n",
              "    <tr>\n",
              "      <th>595</th>\n",
              "      <td>ESP-test-0595</td>\n",
              "      <td>0.269824</td>\n",
              "    </tr>\n",
              "    <tr>\n",
              "      <th>596</th>\n",
              "      <td>ESP-test-0596</td>\n",
              "      <td>0.385449</td>\n",
              "    </tr>\n",
              "    <tr>\n",
              "      <th>597</th>\n",
              "      <td>ESP-test-0597</td>\n",
              "      <td>0.292323</td>\n",
              "    </tr>\n",
              "    <tr>\n",
              "      <th>598</th>\n",
              "      <td>ESP-test-0598</td>\n",
              "      <td>0.414165</td>\n",
              "    </tr>\n",
              "    <tr>\n",
              "      <th>599</th>\n",
              "      <td>ESP-test-0599</td>\n",
              "      <td>0.260727</td>\n",
              "    </tr>\n",
              "  </tbody>\n",
              "</table>\n",
              "<p>600 rows × 2 columns</p>\n",
              "</div>\n",
              "    <div class=\"colab-df-buttons\">\n",
              "\n",
              "  <div class=\"colab-df-container\">\n",
              "    <button class=\"colab-df-convert\" onclick=\"convertToInteractive('df-211a4ebf-838a-4dec-aceb-1c81c8d31894')\"\n",
              "            title=\"Convert this dataframe to an interactive table.\"\n",
              "            style=\"display:none;\">\n",
              "\n",
              "  <svg xmlns=\"http://www.w3.org/2000/svg\" height=\"24px\" viewBox=\"0 -960 960 960\">\n",
              "    <path d=\"M120-120v-720h720v720H120Zm60-500h600v-160H180v160Zm220 220h160v-160H400v160Zm0 220h160v-160H400v160ZM180-400h160v-160H180v160Zm440 0h160v-160H620v160ZM180-180h160v-160H180v160Zm440 0h160v-160H620v160Z\"/>\n",
              "  </svg>\n",
              "    </button>\n",
              "\n",
              "  <style>\n",
              "    .colab-df-container {\n",
              "      display:flex;\n",
              "      gap: 12px;\n",
              "    }\n",
              "\n",
              "    .colab-df-convert {\n",
              "      background-color: #E8F0FE;\n",
              "      border: none;\n",
              "      border-radius: 50%;\n",
              "      cursor: pointer;\n",
              "      display: none;\n",
              "      fill: #1967D2;\n",
              "      height: 32px;\n",
              "      padding: 0 0 0 0;\n",
              "      width: 32px;\n",
              "    }\n",
              "\n",
              "    .colab-df-convert:hover {\n",
              "      background-color: #E2EBFA;\n",
              "      box-shadow: 0px 1px 2px rgba(60, 64, 67, 0.3), 0px 1px 3px 1px rgba(60, 64, 67, 0.15);\n",
              "      fill: #174EA6;\n",
              "    }\n",
              "\n",
              "    .colab-df-buttons div {\n",
              "      margin-bottom: 4px;\n",
              "    }\n",
              "\n",
              "    [theme=dark] .colab-df-convert {\n",
              "      background-color: #3B4455;\n",
              "      fill: #D2E3FC;\n",
              "    }\n",
              "\n",
              "    [theme=dark] .colab-df-convert:hover {\n",
              "      background-color: #434B5C;\n",
              "      box-shadow: 0px 1px 3px 1px rgba(0, 0, 0, 0.15);\n",
              "      filter: drop-shadow(0px 1px 2px rgba(0, 0, 0, 0.3));\n",
              "      fill: #FFFFFF;\n",
              "    }\n",
              "  </style>\n",
              "\n",
              "    <script>\n",
              "      const buttonEl =\n",
              "        document.querySelector('#df-211a4ebf-838a-4dec-aceb-1c81c8d31894 button.colab-df-convert');\n",
              "      buttonEl.style.display =\n",
              "        google.colab.kernel.accessAllowed ? 'block' : 'none';\n",
              "\n",
              "      async function convertToInteractive(key) {\n",
              "        const element = document.querySelector('#df-211a4ebf-838a-4dec-aceb-1c81c8d31894');\n",
              "        const dataTable =\n",
              "          await google.colab.kernel.invokeFunction('convertToInteractive',\n",
              "                                                    [key], {});\n",
              "        if (!dataTable) return;\n",
              "\n",
              "        const docLinkHtml = 'Like what you see? Visit the ' +\n",
              "          '<a target=\"_blank\" href=https://colab.research.google.com/notebooks/data_table.ipynb>data table notebook</a>'\n",
              "          + ' to learn more about interactive tables.';\n",
              "        element.innerHTML = '';\n",
              "        dataTable['output_type'] = 'display_data';\n",
              "        await google.colab.output.renderOutput(dataTable, element);\n",
              "        const docLink = document.createElement('div');\n",
              "        docLink.innerHTML = docLinkHtml;\n",
              "        element.appendChild(docLink);\n",
              "      }\n",
              "    </script>\n",
              "  </div>\n",
              "\n",
              "\n",
              "<div id=\"df-757a8be2-e4bd-4d12-857e-43c8074cee9e\">\n",
              "  <button class=\"colab-df-quickchart\" onclick=\"quickchart('df-757a8be2-e4bd-4d12-857e-43c8074cee9e')\"\n",
              "            title=\"Suggest charts\"\n",
              "            style=\"display:none;\">\n",
              "\n",
              "<svg xmlns=\"http://www.w3.org/2000/svg\" height=\"24px\"viewBox=\"0 0 24 24\"\n",
              "     width=\"24px\">\n",
              "    <g>\n",
              "        <path d=\"M19 3H5c-1.1 0-2 .9-2 2v14c0 1.1.9 2 2 2h14c1.1 0 2-.9 2-2V5c0-1.1-.9-2-2-2zM9 17H7v-7h2v7zm4 0h-2V7h2v10zm4 0h-2v-4h2v4z\"/>\n",
              "    </g>\n",
              "</svg>\n",
              "  </button>\n",
              "\n",
              "<style>\n",
              "  .colab-df-quickchart {\n",
              "      --bg-color: #E8F0FE;\n",
              "      --fill-color: #1967D2;\n",
              "      --hover-bg-color: #E2EBFA;\n",
              "      --hover-fill-color: #174EA6;\n",
              "      --disabled-fill-color: #AAA;\n",
              "      --disabled-bg-color: #DDD;\n",
              "  }\n",
              "\n",
              "  [theme=dark] .colab-df-quickchart {\n",
              "      --bg-color: #3B4455;\n",
              "      --fill-color: #D2E3FC;\n",
              "      --hover-bg-color: #434B5C;\n",
              "      --hover-fill-color: #FFFFFF;\n",
              "      --disabled-bg-color: #3B4455;\n",
              "      --disabled-fill-color: #666;\n",
              "  }\n",
              "\n",
              "  .colab-df-quickchart {\n",
              "    background-color: var(--bg-color);\n",
              "    border: none;\n",
              "    border-radius: 50%;\n",
              "    cursor: pointer;\n",
              "    display: none;\n",
              "    fill: var(--fill-color);\n",
              "    height: 32px;\n",
              "    padding: 0;\n",
              "    width: 32px;\n",
              "  }\n",
              "\n",
              "  .colab-df-quickchart:hover {\n",
              "    background-color: var(--hover-bg-color);\n",
              "    box-shadow: 0 1px 2px rgba(60, 64, 67, 0.3), 0 1px 3px 1px rgba(60, 64, 67, 0.15);\n",
              "    fill: var(--button-hover-fill-color);\n",
              "  }\n",
              "\n",
              "  .colab-df-quickchart-complete:disabled,\n",
              "  .colab-df-quickchart-complete:disabled:hover {\n",
              "    background-color: var(--disabled-bg-color);\n",
              "    fill: var(--disabled-fill-color);\n",
              "    box-shadow: none;\n",
              "  }\n",
              "\n",
              "  .colab-df-spinner {\n",
              "    border: 2px solid var(--fill-color);\n",
              "    border-color: transparent;\n",
              "    border-bottom-color: var(--fill-color);\n",
              "    animation:\n",
              "      spin 1s steps(1) infinite;\n",
              "  }\n",
              "\n",
              "  @keyframes spin {\n",
              "    0% {\n",
              "      border-color: transparent;\n",
              "      border-bottom-color: var(--fill-color);\n",
              "      border-left-color: var(--fill-color);\n",
              "    }\n",
              "    20% {\n",
              "      border-color: transparent;\n",
              "      border-left-color: var(--fill-color);\n",
              "      border-top-color: var(--fill-color);\n",
              "    }\n",
              "    30% {\n",
              "      border-color: transparent;\n",
              "      border-left-color: var(--fill-color);\n",
              "      border-top-color: var(--fill-color);\n",
              "      border-right-color: var(--fill-color);\n",
              "    }\n",
              "    40% {\n",
              "      border-color: transparent;\n",
              "      border-right-color: var(--fill-color);\n",
              "      border-top-color: var(--fill-color);\n",
              "    }\n",
              "    60% {\n",
              "      border-color: transparent;\n",
              "      border-right-color: var(--fill-color);\n",
              "    }\n",
              "    80% {\n",
              "      border-color: transparent;\n",
              "      border-right-color: var(--fill-color);\n",
              "      border-bottom-color: var(--fill-color);\n",
              "    }\n",
              "    90% {\n",
              "      border-color: transparent;\n",
              "      border-bottom-color: var(--fill-color);\n",
              "    }\n",
              "  }\n",
              "</style>\n",
              "\n",
              "  <script>\n",
              "    async function quickchart(key) {\n",
              "      const quickchartButtonEl =\n",
              "        document.querySelector('#' + key + ' button');\n",
              "      quickchartButtonEl.disabled = true;  // To prevent multiple clicks.\n",
              "      quickchartButtonEl.classList.add('colab-df-spinner');\n",
              "      try {\n",
              "        const charts = await google.colab.kernel.invokeFunction(\n",
              "            'suggestCharts', [key], {});\n",
              "      } catch (error) {\n",
              "        console.error('Error during call to suggestCharts:', error);\n",
              "      }\n",
              "      quickchartButtonEl.classList.remove('colab-df-spinner');\n",
              "      quickchartButtonEl.classList.add('colab-df-quickchart-complete');\n",
              "    }\n",
              "    (() => {\n",
              "      let quickchartButtonEl =\n",
              "        document.querySelector('#df-757a8be2-e4bd-4d12-857e-43c8074cee9e button');\n",
              "      quickchartButtonEl.style.display =\n",
              "        google.colab.kernel.accessAllowed ? 'block' : 'none';\n",
              "    })();\n",
              "  </script>\n",
              "</div>\n",
              "\n",
              "  <div id=\"id_e2d0f346-b2c6-4a42-a4be-7db46d23284d\">\n",
              "    <style>\n",
              "      .colab-df-generate {\n",
              "        background-color: #E8F0FE;\n",
              "        border: none;\n",
              "        border-radius: 50%;\n",
              "        cursor: pointer;\n",
              "        display: none;\n",
              "        fill: #1967D2;\n",
              "        height: 32px;\n",
              "        padding: 0 0 0 0;\n",
              "        width: 32px;\n",
              "      }\n",
              "\n",
              "      .colab-df-generate:hover {\n",
              "        background-color: #E2EBFA;\n",
              "        box-shadow: 0px 1px 2px rgba(60, 64, 67, 0.3), 0px 1px 3px 1px rgba(60, 64, 67, 0.15);\n",
              "        fill: #174EA6;\n",
              "      }\n",
              "\n",
              "      [theme=dark] .colab-df-generate {\n",
              "        background-color: #3B4455;\n",
              "        fill: #D2E3FC;\n",
              "      }\n",
              "\n",
              "      [theme=dark] .colab-df-generate:hover {\n",
              "        background-color: #434B5C;\n",
              "        box-shadow: 0px 1px 3px 1px rgba(0, 0, 0, 0.15);\n",
              "        filter: drop-shadow(0px 1px 2px rgba(0, 0, 0, 0.3));\n",
              "        fill: #FFFFFF;\n",
              "      }\n",
              "    </style>\n",
              "    <button class=\"colab-df-generate\" onclick=\"generateWithVariable('df_esp')\"\n",
              "            title=\"Generate code using this dataframe.\"\n",
              "            style=\"display:none;\">\n",
              "\n",
              "  <svg xmlns=\"http://www.w3.org/2000/svg\" height=\"24px\"viewBox=\"0 0 24 24\"\n",
              "       width=\"24px\">\n",
              "    <path d=\"M7,19H8.4L18.45,9,17,7.55,7,17.6ZM5,21V16.75L18.45,3.32a2,2,0,0,1,2.83,0l1.4,1.43a1.91,1.91,0,0,1,.58,1.4,1.91,1.91,0,0,1-.58,1.4L9.25,21ZM18.45,9,17,7.55Zm-12,3A5.31,5.31,0,0,0,4.9,8.1,5.31,5.31,0,0,0,1,6.5,5.31,5.31,0,0,0,4.9,4.9,5.31,5.31,0,0,0,6.5,1,5.31,5.31,0,0,0,8.1,4.9,5.31,5.31,0,0,0,12,6.5,5.46,5.46,0,0,0,6.5,12Z\"/>\n",
              "  </svg>\n",
              "    </button>\n",
              "    <script>\n",
              "      (() => {\n",
              "      const buttonEl =\n",
              "        document.querySelector('#id_e2d0f346-b2c6-4a42-a4be-7db46d23284d button.colab-df-generate');\n",
              "      buttonEl.style.display =\n",
              "        google.colab.kernel.accessAllowed ? 'block' : 'none';\n",
              "\n",
              "      buttonEl.onclick = () => {\n",
              "        google.colab.notebook.generateWithVariable('df_esp');\n",
              "      }\n",
              "      })();\n",
              "    </script>\n",
              "  </div>\n",
              "\n",
              "    </div>\n",
              "  </div>\n"
            ],
            "text/plain": [
              "            PairID  Pred_Score\n",
              "0    ESP-test-0000    0.736883\n",
              "1    ESP-test-0001    0.631972\n",
              "2    ESP-test-0002    0.338420\n",
              "3    ESP-test-0003    0.241777\n",
              "4    ESP-test-0004    0.270513\n",
              "..             ...         ...\n",
              "595  ESP-test-0595    0.269824\n",
              "596  ESP-test-0596    0.385449\n",
              "597  ESP-test-0597    0.292323\n",
              "598  ESP-test-0598    0.414165\n",
              "599  ESP-test-0599    0.260727\n",
              "\n",
              "[600 rows x 2 columns]"
            ]
          },
          "execution_count": 31,
          "metadata": {},
          "output_type": "execute_result"
        }
      ],
      "source": [
        "aux_esp = svm_esp[2].predict(final_esp_test)\n",
        "data_esp = {'PairID': esp_test['PairID'], 'Pred_Score': aux_esp}\n",
        "df_esp = pd.DataFrame(data=data_esp)\n",
        "df_esp"
      ]
    },
    {
      "cell_type": "code",
      "execution_count": null,
      "metadata": {
        "colab": {
          "base_uri": "https://localhost:8080/",
          "height": 423
        },
        "id": "dLH82pU5wbS_",
        "outputId": "56dccfc6-c57d-4323-e1f2-387a4574c582"
      },
      "outputs": [
        {
          "data": {
            "application/vnd.google.colaboratory.intrinsic+json": {
              "summary": "{\n  \"name\": \"df_eng\",\n  \"rows\": 2600,\n  \"fields\": [\n    {\n      \"column\": \"PairID\",\n      \"properties\": {\n        \"dtype\": \"string\",\n        \"samples\": [\n          \"ENG-test-1593\",\n          \"ENG-test-0196\",\n          \"ENG-test-0239\"\n        ],\n        \"num_unique_values\": 2600,\n        \"semantic_type\": \"\",\n        \"description\": \"\"\n      }\n    },\n    {\n      \"column\": \"Pred_Score\",\n      \"properties\": {\n        \"dtype\": \"number\",\n        \"std\": 0.23482034622285397,\n        \"min\": 0.1663109354735651,\n        \"max\": 0.94081008249765,\n        \"samples\": [\n          0.5853088402403731,\n          0.44452591294321897,\n          0.4972293285967167\n        ],\n        \"num_unique_values\": 2298,\n        \"semantic_type\": \"\",\n        \"description\": \"\"\n      }\n    }\n  ]\n}",
              "type": "dataframe",
              "variable_name": "df_eng"
            },
            "text/html": [
              "\n",
              "  <div id=\"df-38f7477c-aa66-4d79-92cf-ce5f91ac0274\" class=\"colab-df-container\">\n",
              "    <div>\n",
              "<style scoped>\n",
              "    .dataframe tbody tr th:only-of-type {\n",
              "        vertical-align: middle;\n",
              "    }\n",
              "\n",
              "    .dataframe tbody tr th {\n",
              "        vertical-align: top;\n",
              "    }\n",
              "\n",
              "    .dataframe thead th {\n",
              "        text-align: right;\n",
              "    }\n",
              "</style>\n",
              "<table border=\"1\" class=\"dataframe\">\n",
              "  <thead>\n",
              "    <tr style=\"text-align: right;\">\n",
              "      <th></th>\n",
              "      <th>PairID</th>\n",
              "      <th>Pred_Score</th>\n",
              "    </tr>\n",
              "  </thead>\n",
              "  <tbody>\n",
              "    <tr>\n",
              "      <th>0</th>\n",
              "      <td>ENG-test-0000</td>\n",
              "      <td>0.686044</td>\n",
              "    </tr>\n",
              "    <tr>\n",
              "      <th>1</th>\n",
              "      <td>ENG-test-0001</td>\n",
              "      <td>0.652077</td>\n",
              "    </tr>\n",
              "    <tr>\n",
              "      <th>2</th>\n",
              "      <td>ENG-test-0002</td>\n",
              "      <td>0.483478</td>\n",
              "    </tr>\n",
              "    <tr>\n",
              "      <th>3</th>\n",
              "      <td>ENG-test-0003</td>\n",
              "      <td>0.225006</td>\n",
              "    </tr>\n",
              "    <tr>\n",
              "      <th>4</th>\n",
              "      <td>ENG-test-0004</td>\n",
              "      <td>0.431744</td>\n",
              "    </tr>\n",
              "    <tr>\n",
              "      <th>...</th>\n",
              "      <td>...</td>\n",
              "      <td>...</td>\n",
              "    </tr>\n",
              "    <tr>\n",
              "      <th>2595</th>\n",
              "      <td>ENG-test-2595</td>\n",
              "      <td>0.795829</td>\n",
              "    </tr>\n",
              "    <tr>\n",
              "      <th>2596</th>\n",
              "      <td>ENG-test-2596</td>\n",
              "      <td>0.266357</td>\n",
              "    </tr>\n",
              "    <tr>\n",
              "      <th>2597</th>\n",
              "      <td>ENG-test-2597</td>\n",
              "      <td>0.444526</td>\n",
              "    </tr>\n",
              "    <tr>\n",
              "      <th>2598</th>\n",
              "      <td>ENG-test-2598</td>\n",
              "      <td>0.302475</td>\n",
              "    </tr>\n",
              "    <tr>\n",
              "      <th>2599</th>\n",
              "      <td>ENG-test-2599</td>\n",
              "      <td>0.370708</td>\n",
              "    </tr>\n",
              "  </tbody>\n",
              "</table>\n",
              "<p>2600 rows × 2 columns</p>\n",
              "</div>\n",
              "    <div class=\"colab-df-buttons\">\n",
              "\n",
              "  <div class=\"colab-df-container\">\n",
              "    <button class=\"colab-df-convert\" onclick=\"convertToInteractive('df-38f7477c-aa66-4d79-92cf-ce5f91ac0274')\"\n",
              "            title=\"Convert this dataframe to an interactive table.\"\n",
              "            style=\"display:none;\">\n",
              "\n",
              "  <svg xmlns=\"http://www.w3.org/2000/svg\" height=\"24px\" viewBox=\"0 -960 960 960\">\n",
              "    <path d=\"M120-120v-720h720v720H120Zm60-500h600v-160H180v160Zm220 220h160v-160H400v160Zm0 220h160v-160H400v160ZM180-400h160v-160H180v160Zm440 0h160v-160H620v160ZM180-180h160v-160H180v160Zm440 0h160v-160H620v160Z\"/>\n",
              "  </svg>\n",
              "    </button>\n",
              "\n",
              "  <style>\n",
              "    .colab-df-container {\n",
              "      display:flex;\n",
              "      gap: 12px;\n",
              "    }\n",
              "\n",
              "    .colab-df-convert {\n",
              "      background-color: #E8F0FE;\n",
              "      border: none;\n",
              "      border-radius: 50%;\n",
              "      cursor: pointer;\n",
              "      display: none;\n",
              "      fill: #1967D2;\n",
              "      height: 32px;\n",
              "      padding: 0 0 0 0;\n",
              "      width: 32px;\n",
              "    }\n",
              "\n",
              "    .colab-df-convert:hover {\n",
              "      background-color: #E2EBFA;\n",
              "      box-shadow: 0px 1px 2px rgba(60, 64, 67, 0.3), 0px 1px 3px 1px rgba(60, 64, 67, 0.15);\n",
              "      fill: #174EA6;\n",
              "    }\n",
              "\n",
              "    .colab-df-buttons div {\n",
              "      margin-bottom: 4px;\n",
              "    }\n",
              "\n",
              "    [theme=dark] .colab-df-convert {\n",
              "      background-color: #3B4455;\n",
              "      fill: #D2E3FC;\n",
              "    }\n",
              "\n",
              "    [theme=dark] .colab-df-convert:hover {\n",
              "      background-color: #434B5C;\n",
              "      box-shadow: 0px 1px 3px 1px rgba(0, 0, 0, 0.15);\n",
              "      filter: drop-shadow(0px 1px 2px rgba(0, 0, 0, 0.3));\n",
              "      fill: #FFFFFF;\n",
              "    }\n",
              "  </style>\n",
              "\n",
              "    <script>\n",
              "      const buttonEl =\n",
              "        document.querySelector('#df-38f7477c-aa66-4d79-92cf-ce5f91ac0274 button.colab-df-convert');\n",
              "      buttonEl.style.display =\n",
              "        google.colab.kernel.accessAllowed ? 'block' : 'none';\n",
              "\n",
              "      async function convertToInteractive(key) {\n",
              "        const element = document.querySelector('#df-38f7477c-aa66-4d79-92cf-ce5f91ac0274');\n",
              "        const dataTable =\n",
              "          await google.colab.kernel.invokeFunction('convertToInteractive',\n",
              "                                                    [key], {});\n",
              "        if (!dataTable) return;\n",
              "\n",
              "        const docLinkHtml = 'Like what you see? Visit the ' +\n",
              "          '<a target=\"_blank\" href=https://colab.research.google.com/notebooks/data_table.ipynb>data table notebook</a>'\n",
              "          + ' to learn more about interactive tables.';\n",
              "        element.innerHTML = '';\n",
              "        dataTable['output_type'] = 'display_data';\n",
              "        await google.colab.output.renderOutput(dataTable, element);\n",
              "        const docLink = document.createElement('div');\n",
              "        docLink.innerHTML = docLinkHtml;\n",
              "        element.appendChild(docLink);\n",
              "      }\n",
              "    </script>\n",
              "  </div>\n",
              "\n",
              "\n",
              "<div id=\"df-ad8d896d-f45b-441a-96a7-f08e42558f05\">\n",
              "  <button class=\"colab-df-quickchart\" onclick=\"quickchart('df-ad8d896d-f45b-441a-96a7-f08e42558f05')\"\n",
              "            title=\"Suggest charts\"\n",
              "            style=\"display:none;\">\n",
              "\n",
              "<svg xmlns=\"http://www.w3.org/2000/svg\" height=\"24px\"viewBox=\"0 0 24 24\"\n",
              "     width=\"24px\">\n",
              "    <g>\n",
              "        <path d=\"M19 3H5c-1.1 0-2 .9-2 2v14c0 1.1.9 2 2 2h14c1.1 0 2-.9 2-2V5c0-1.1-.9-2-2-2zM9 17H7v-7h2v7zm4 0h-2V7h2v10zm4 0h-2v-4h2v4z\"/>\n",
              "    </g>\n",
              "</svg>\n",
              "  </button>\n",
              "\n",
              "<style>\n",
              "  .colab-df-quickchart {\n",
              "      --bg-color: #E8F0FE;\n",
              "      --fill-color: #1967D2;\n",
              "      --hover-bg-color: #E2EBFA;\n",
              "      --hover-fill-color: #174EA6;\n",
              "      --disabled-fill-color: #AAA;\n",
              "      --disabled-bg-color: #DDD;\n",
              "  }\n",
              "\n",
              "  [theme=dark] .colab-df-quickchart {\n",
              "      --bg-color: #3B4455;\n",
              "      --fill-color: #D2E3FC;\n",
              "      --hover-bg-color: #434B5C;\n",
              "      --hover-fill-color: #FFFFFF;\n",
              "      --disabled-bg-color: #3B4455;\n",
              "      --disabled-fill-color: #666;\n",
              "  }\n",
              "\n",
              "  .colab-df-quickchart {\n",
              "    background-color: var(--bg-color);\n",
              "    border: none;\n",
              "    border-radius: 50%;\n",
              "    cursor: pointer;\n",
              "    display: none;\n",
              "    fill: var(--fill-color);\n",
              "    height: 32px;\n",
              "    padding: 0;\n",
              "    width: 32px;\n",
              "  }\n",
              "\n",
              "  .colab-df-quickchart:hover {\n",
              "    background-color: var(--hover-bg-color);\n",
              "    box-shadow: 0 1px 2px rgba(60, 64, 67, 0.3), 0 1px 3px 1px rgba(60, 64, 67, 0.15);\n",
              "    fill: var(--button-hover-fill-color);\n",
              "  }\n",
              "\n",
              "  .colab-df-quickchart-complete:disabled,\n",
              "  .colab-df-quickchart-complete:disabled:hover {\n",
              "    background-color: var(--disabled-bg-color);\n",
              "    fill: var(--disabled-fill-color);\n",
              "    box-shadow: none;\n",
              "  }\n",
              "\n",
              "  .colab-df-spinner {\n",
              "    border: 2px solid var(--fill-color);\n",
              "    border-color: transparent;\n",
              "    border-bottom-color: var(--fill-color);\n",
              "    animation:\n",
              "      spin 1s steps(1) infinite;\n",
              "  }\n",
              "\n",
              "  @keyframes spin {\n",
              "    0% {\n",
              "      border-color: transparent;\n",
              "      border-bottom-color: var(--fill-color);\n",
              "      border-left-color: var(--fill-color);\n",
              "    }\n",
              "    20% {\n",
              "      border-color: transparent;\n",
              "      border-left-color: var(--fill-color);\n",
              "      border-top-color: var(--fill-color);\n",
              "    }\n",
              "    30% {\n",
              "      border-color: transparent;\n",
              "      border-left-color: var(--fill-color);\n",
              "      border-top-color: var(--fill-color);\n",
              "      border-right-color: var(--fill-color);\n",
              "    }\n",
              "    40% {\n",
              "      border-color: transparent;\n",
              "      border-right-color: var(--fill-color);\n",
              "      border-top-color: var(--fill-color);\n",
              "    }\n",
              "    60% {\n",
              "      border-color: transparent;\n",
              "      border-right-color: var(--fill-color);\n",
              "    }\n",
              "    80% {\n",
              "      border-color: transparent;\n",
              "      border-right-color: var(--fill-color);\n",
              "      border-bottom-color: var(--fill-color);\n",
              "    }\n",
              "    90% {\n",
              "      border-color: transparent;\n",
              "      border-bottom-color: var(--fill-color);\n",
              "    }\n",
              "  }\n",
              "</style>\n",
              "\n",
              "  <script>\n",
              "    async function quickchart(key) {\n",
              "      const quickchartButtonEl =\n",
              "        document.querySelector('#' + key + ' button');\n",
              "      quickchartButtonEl.disabled = true;  // To prevent multiple clicks.\n",
              "      quickchartButtonEl.classList.add('colab-df-spinner');\n",
              "      try {\n",
              "        const charts = await google.colab.kernel.invokeFunction(\n",
              "            'suggestCharts', [key], {});\n",
              "      } catch (error) {\n",
              "        console.error('Error during call to suggestCharts:', error);\n",
              "      }\n",
              "      quickchartButtonEl.classList.remove('colab-df-spinner');\n",
              "      quickchartButtonEl.classList.add('colab-df-quickchart-complete');\n",
              "    }\n",
              "    (() => {\n",
              "      let quickchartButtonEl =\n",
              "        document.querySelector('#df-ad8d896d-f45b-441a-96a7-f08e42558f05 button');\n",
              "      quickchartButtonEl.style.display =\n",
              "        google.colab.kernel.accessAllowed ? 'block' : 'none';\n",
              "    })();\n",
              "  </script>\n",
              "</div>\n",
              "\n",
              "  <div id=\"id_c45b5ac6-164c-4497-ba68-c30beeea6f5b\">\n",
              "    <style>\n",
              "      .colab-df-generate {\n",
              "        background-color: #E8F0FE;\n",
              "        border: none;\n",
              "        border-radius: 50%;\n",
              "        cursor: pointer;\n",
              "        display: none;\n",
              "        fill: #1967D2;\n",
              "        height: 32px;\n",
              "        padding: 0 0 0 0;\n",
              "        width: 32px;\n",
              "      }\n",
              "\n",
              "      .colab-df-generate:hover {\n",
              "        background-color: #E2EBFA;\n",
              "        box-shadow: 0px 1px 2px rgba(60, 64, 67, 0.3), 0px 1px 3px 1px rgba(60, 64, 67, 0.15);\n",
              "        fill: #174EA6;\n",
              "      }\n",
              "\n",
              "      [theme=dark] .colab-df-generate {\n",
              "        background-color: #3B4455;\n",
              "        fill: #D2E3FC;\n",
              "      }\n",
              "\n",
              "      [theme=dark] .colab-df-generate:hover {\n",
              "        background-color: #434B5C;\n",
              "        box-shadow: 0px 1px 3px 1px rgba(0, 0, 0, 0.15);\n",
              "        filter: drop-shadow(0px 1px 2px rgba(0, 0, 0, 0.3));\n",
              "        fill: #FFFFFF;\n",
              "      }\n",
              "    </style>\n",
              "    <button class=\"colab-df-generate\" onclick=\"generateWithVariable('df_eng')\"\n",
              "            title=\"Generate code using this dataframe.\"\n",
              "            style=\"display:none;\">\n",
              "\n",
              "  <svg xmlns=\"http://www.w3.org/2000/svg\" height=\"24px\"viewBox=\"0 0 24 24\"\n",
              "       width=\"24px\">\n",
              "    <path d=\"M7,19H8.4L18.45,9,17,7.55,7,17.6ZM5,21V16.75L18.45,3.32a2,2,0,0,1,2.83,0l1.4,1.43a1.91,1.91,0,0,1,.58,1.4,1.91,1.91,0,0,1-.58,1.4L9.25,21ZM18.45,9,17,7.55Zm-12,3A5.31,5.31,0,0,0,4.9,8.1,5.31,5.31,0,0,0,1,6.5,5.31,5.31,0,0,0,4.9,4.9,5.31,5.31,0,0,0,6.5,1,5.31,5.31,0,0,0,8.1,4.9,5.31,5.31,0,0,0,12,6.5,5.46,5.46,0,0,0,6.5,12Z\"/>\n",
              "  </svg>\n",
              "    </button>\n",
              "    <script>\n",
              "      (() => {\n",
              "      const buttonEl =\n",
              "        document.querySelector('#id_c45b5ac6-164c-4497-ba68-c30beeea6f5b button.colab-df-generate');\n",
              "      buttonEl.style.display =\n",
              "        google.colab.kernel.accessAllowed ? 'block' : 'none';\n",
              "\n",
              "      buttonEl.onclick = () => {\n",
              "        google.colab.notebook.generateWithVariable('df_eng');\n",
              "      }\n",
              "      })();\n",
              "    </script>\n",
              "  </div>\n",
              "\n",
              "    </div>\n",
              "  </div>\n"
            ],
            "text/plain": [
              "             PairID  Pred_Score\n",
              "0     ENG-test-0000    0.686044\n",
              "1     ENG-test-0001    0.652077\n",
              "2     ENG-test-0002    0.483478\n",
              "3     ENG-test-0003    0.225006\n",
              "4     ENG-test-0004    0.431744\n",
              "...             ...         ...\n",
              "2595  ENG-test-2595    0.795829\n",
              "2596  ENG-test-2596    0.266357\n",
              "2597  ENG-test-2597    0.444526\n",
              "2598  ENG-test-2598    0.302475\n",
              "2599  ENG-test-2599    0.370708\n",
              "\n",
              "[2600 rows x 2 columns]"
            ]
          },
          "execution_count": 32,
          "metadata": {},
          "output_type": "execute_result"
        }
      ],
      "source": [
        "aux_eng = forest_eng[2].predict(final_eng_test)\n",
        "data_eng = {'PairID': eng_test['PairID'], 'Pred_Score': aux_eng}\n",
        "df_eng = pd.DataFrame(data=data_eng)\n",
        "df_eng"
      ]
    },
    {
      "cell_type": "code",
      "execution_count": null,
      "metadata": {
        "id": "1gx9qgDDyzbm"
      },
      "outputs": [],
      "source": [
        "#df_esp.to_csv('/content/drive/MyDrive/pred_esp_a.csv', index=False)\n",
        "#df_eng.to_csv('/content/drive/MyDrive/pred_eng_a.csv', index=False)"
      ]
    },
    {
      "cell_type": "code",
      "execution_count": null,
      "metadata": {
        "id": "4fzFl1HHrscG"
      },
      "outputs": [],
      "source": [
        "#-----------------------------------------------------------------------------------------------------------------"
      ]
    },
    {
      "cell_type": "code",
      "execution_count": null,
      "metadata": {
        "id": "uOjEGfvMwLqV"
      },
      "outputs": [],
      "source": [
        "from sklearn.model_selection import train_test_split\n",
        "xtrain_esp, xtest_esp, ytrain_esp, ytest_esp = train_test_split(lista_fin_esp, esp_ds['Score'], test_size=0.25, random_state=69)\n",
        "xtrain_eng, xtest_eng, ytrain_eng, ytest_eng = train_test_split(lista_fin_eng, eng_ds['Score'], test_size=0.25, random_state=420)"
      ]
    },
    {
      "cell_type": "code",
      "execution_count": null,
      "metadata": {
        "colab": {
          "base_uri": "https://localhost:8080/"
        },
        "id": "ZKp0pdS0J9p5",
        "outputId": "ae4ec658-5dec-459f-d7c6-18d0778d419e"
      },
      "outputs": [
        {
          "name": "stdout",
          "output_type": "stream",
          "text": [
            "Español: \n",
            "SVM:  0.7219595192598911 Forest:  0.7153253826793448 SVM Epsilon:  0.7226385068570647 Ridge:  0.7250130556145267\n",
            "English: \n",
            "SVM:  0.8423314324931402 Forest:  0.8389179584724146 SVM Epsilon:  0.8387979640233312 Ridge:  0.8395007885642257\n"
          ]
        }
      ],
      "source": [
        "# Quiero usar una regresión Lasso para poder ponerle TedLasso a la variable pero no funciona :c\n",
        "\n",
        "svm_esp = ez_reg(svm.SVR(), xtrain_esp, xtest_esp, ytrain_esp, ytest_esp)\n",
        "svm_eng = ez_reg(svm.SVR(), xtrain_eng, xtest_eng, ytrain_eng, ytest_eng)\n",
        "forest_esp = ez_reg(RandomForestRegressor(max_depth=5, random_state=0), xtrain_esp, xtest_esp, ytrain_esp, ytest_esp)\n",
        "forest_eng = ez_reg(RandomForestRegressor(max_depth=5, random_state=0), xtrain_eng, xtest_eng, ytrain_eng, ytest_eng)\n",
        "svm_esp_epsilon = ez_reg(svm.SVR(C=1.0, epsilon=0.3), xtrain_esp, xtest_esp, ytrain_esp, ytest_esp)\n",
        "svm_eng_epsilon = ez_reg(svm.SVR(C=1.0, epsilon=0.3), xtrain_eng, xtest_eng, ytrain_eng, ytest_eng)\n",
        "tedridge_esp = ez_reg(linear_model.Ridge(alpha=.9), xtrain_esp, xtest_esp, ytrain_esp, ytest_esp)\n",
        "tedridge_eng = ez_reg(linear_model.Ridge(alpha=.8), xtrain_eng, xtest_eng, ytrain_eng, ytest_eng)\n",
        "\n",
        "print(\"Español: \")\n",
        "print(\"SVM: \", svm_esp[0], \"Forest: \", forest_esp[0], \"SVM Epsilon: \", svm_esp_epsilon[0], \"Ridge: \", tedridge_esp[0])\n",
        "print(\"English: \")\n",
        "print(\"SVM: \", svm_eng[0], \"Forest: \", forest_eng[0], \"SVM Epsilon: \", svm_eng_epsilon[0], \"Ridge: \", tedridge_eng[0])"
      ]
    },
    {
      "cell_type": "markdown",
      "metadata": {
        "id": "TuTtPTCQhhnX"
      },
      "source": [
        "### Formato de salida"
      ]
    },
    {
      "cell_type": "code",
      "execution_count": null,
      "metadata": {
        "id": "7sOR-a5y0mPv"
      },
      "outputs": [],
      "source": [
        "# ytest corresponde al valor en cuestión\n",
        "# ds al dataframe como siempre\n",
        "# ted al predict que obtenemos del modelo (tedridge_eng[1])\n",
        "def formato_salida(ytest, ds, ted):\n",
        "  index = ytest.index\n",
        "  index_l = [ds['PairID'][i] for i in index]\n",
        "  score_l = [ds['Score'][i] for i in index]\n",
        "  jisho = {'PairID': index_l, 'Pred_Score': ted, 'Score': score_l}\n",
        "  #jisho = {'PairID': index_l, 'Pred_Score': ted}\n",
        "  df = pd.DataFrame(data=jisho)\n",
        "  return df"
      ]
    },
    {
      "cell_type": "code",
      "execution_count": null,
      "metadata": {
        "colab": {
          "base_uri": "https://localhost:8080/"
        },
        "id": "INhT-NO_R_q9",
        "outputId": "84c041dd-1b95-4256-dffd-d0a29786fec1"
      },
      "outputs": [
        {
          "data": {
            "text/plain": [
              "0.7250130556145267"
            ]
          },
          "execution_count": 160,
          "metadata": {},
          "output_type": "execute_result"
        }
      ],
      "source": [
        "df_aux = formato_salida(ytest_esp, esp_ds, tedridge_esp[1])\n",
        "#df_aux\n",
        "\n",
        "spearman_prueba1 = spearmanr(df_aux['Pred_Score'], df_aux['Score'])[0]\n",
        "spearman_prueba1"
      ]
    },
    {
      "cell_type": "code",
      "execution_count": null,
      "metadata": {
        "colab": {
          "base_uri": "https://localhost:8080/"
        },
        "id": "8x6wwlcItIQ0",
        "outputId": "b8e2c69c-b218-42fc-fa43-87f2050b34a2"
      },
      "outputs": [
        {
          "data": {
            "text/plain": [
              "0.7854714796668703"
            ]
          },
          "execution_count": 82,
          "metadata": {},
          "output_type": "execute_result"
        }
      ],
      "source": [
        "spearman_prueba = spearmanr(df_prueba['Pred_Score'], df_prueba['Score'])[0]\n",
        "spearman_prueba"
      ]
    }
  ],
  "metadata": {
    "accelerator": "GPU",
    "colab": {
      "collapsed_sections": [
        "jHdV4G3wgJaM",
        "WrjLyjc8jkXP"
      ],
      "provenance": []
    },
    "kernelspec": {
      "display_name": "Python 3",
      "name": "python3"
    },
    "language_info": {
      "name": "python"
    }
  },
  "nbformat": 4,
  "nbformat_minor": 0
}